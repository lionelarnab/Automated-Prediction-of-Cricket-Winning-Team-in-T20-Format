{
 "cells": [
  {
   "cell_type": "code",
   "execution_count": 1,
   "id": "66777d81",
   "metadata": {},
   "outputs": [],
   "source": [
    "import pandas as pd\n",
    "import numpy as np\n",
    "import matplotlib.pyplot as plt\n",
    "import seaborn as sns\n",
    "import matplotlib.ticker as ticker\n",
    "import matplotlib.ticker as plticker\n",
    "import time\n",
    "from sklearn.model_selection import train_test_split\n",
    "from sklearn.neighbors import KNeighborsClassifier\n",
    "from sklearn.ensemble import RandomForestClassifier\n",
    "from sklearn.neighbors import KNeighborsClassifier\n",
    "from sklearn.model_selection import cross_val_score\n",
    "from sklearn.model_selection import RepeatedStratifiedKFold\n",
    "from sklearn.svm import SVC\n",
    "from sklearn.naive_bayes import MultinomialNB\n",
    "from sklearn.linear_model import LogisticRegression\n",
    "from sklearn.ensemble import GradientBoostingClassifier\n"
   ]
  },
  {
   "cell_type": "code",
   "execution_count": 2,
   "id": "5eb8b4cf",
   "metadata": {},
   "outputs": [],
   "source": [
    "world_cup = pd.read_csv('world_cup_t20_dataset.csv')\n",
    "results = pd.read_csv('final.csv', index_col = [0])"
   ]
  },
  {
   "cell_type": "code",
   "execution_count": 3,
   "id": "dc62c27e",
   "metadata": {},
   "outputs": [
    {
     "data": {
      "text/plain": [
       "<bound method DataFrame.info of             Date        Team_1       Team_2        Winner     Margin  \\\n",
       "0     09-11-2007  South Africa  West Indies  South Africa  8 wickets   \n",
       "1     09-12-2007         Kenya  New Zealand   New Zealand  9 wickets   \n",
       "2     09-12-2007      Pakistan     Scotland      Pakistan    51 runs   \n",
       "3     09-12-2007     Australia     Zimbabwe      Zimbabwe  5 wickets   \n",
       "4     13-09-2007    Bangladesh  West Indies    Bangladesh  6 wickets   \n",
       "...          ...           ...          ...           ...        ...   \n",
       "1456  07-10-2022     Australia  West Indies     Australia    31 runs   \n",
       "1457  08-10-2022   New Zealand     Pakistan      Pakistan  6 wickets   \n",
       "1458  09-10-2022         Japan    Indonesia         Japan    64 runs   \n",
       "1459  09-10-2022   New Zealand   Bangladesh   New Zealand  8 wickets   \n",
       "1460  09-10-2022     Australia      England       England     8 runs   \n",
       "\n",
       "            Ground  Winner   \n",
       "0     Johannesburg      NaN  \n",
       "1           Durban      NaN  \n",
       "2           Durban      NaN  \n",
       "3        Cape Town      NaN  \n",
       "4     Johannesburg      NaN  \n",
       "...            ...      ...  \n",
       "1456      Brisbane      NaN  \n",
       "1457  Christchurch      NaN  \n",
       "1458          Sano      NaN  \n",
       "1459  Christchurch      NaN  \n",
       "1460         Perth      NaN  \n",
       "\n",
       "[1461 rows x 7 columns]>"
      ]
     },
     "execution_count": 3,
     "metadata": {},
     "output_type": "execute_result"
    }
   ],
   "source": [
    "results.info"
   ]
  },
  {
   "cell_type": "code",
   "execution_count": 4,
   "id": "6bc22128",
   "metadata": {},
   "outputs": [
    {
     "name": "stdout",
     "output_type": "stream",
     "text": [
      "            Date        Team_1       Team_2        Winner     Margin  \\\n",
      "0     09-11-2007  South Africa  West Indies  South Africa  8 wickets   \n",
      "1     09-12-2007         Kenya  New Zealand   New Zealand  9 wickets   \n",
      "2     09-12-2007      Pakistan     Scotland      Pakistan    51 runs   \n",
      "3     09-12-2007     Australia     Zimbabwe      Zimbabwe  5 wickets   \n",
      "4     13-09-2007    Bangladesh  West Indies    Bangladesh  6 wickets   \n",
      "...          ...           ...          ...           ...        ...   \n",
      "1456  07-10-2022     Australia  West Indies     Australia    31 runs   \n",
      "1457  08-10-2022   New Zealand     Pakistan      Pakistan  6 wickets   \n",
      "1458  09-10-2022         Japan    Indonesia         Japan    64 runs   \n",
      "1459  09-10-2022   New Zealand   Bangladesh   New Zealand  8 wickets   \n",
      "1460  09-10-2022     Australia      England       England     8 runs   \n",
      "\n",
      "            Ground  \n",
      "0     Johannesburg  \n",
      "1           Durban  \n",
      "2           Durban  \n",
      "3        Cape Town  \n",
      "4     Johannesburg  \n",
      "...            ...  \n",
      "1456      Brisbane  \n",
      "1457  Christchurch  \n",
      "1458          Sano  \n",
      "1459  Christchurch  \n",
      "1460         Perth  \n",
      "\n",
      "[1461 rows x 6 columns]\n"
     ]
    }
   ],
   "source": [
    "n = 1\n",
    "results = results.iloc[:,:-n]\n",
    "print(results)"
   ]
  },
  {
   "cell_type": "code",
   "execution_count": 5,
   "id": "3e6b245c",
   "metadata": {},
   "outputs": [
    {
     "data": {
      "text/plain": [
       "<bound method DataFrame.info of             Date        Team_1       Team_2        Winner     Margin  \\\n",
       "0     09-11-2007  South Africa  West Indies  South Africa  8 wickets   \n",
       "1     09-12-2007         Kenya  New Zealand   New Zealand  9 wickets   \n",
       "2     09-12-2007      Pakistan     Scotland      Pakistan    51 runs   \n",
       "3     09-12-2007     Australia     Zimbabwe      Zimbabwe  5 wickets   \n",
       "4     13-09-2007    Bangladesh  West Indies    Bangladesh  6 wickets   \n",
       "...          ...           ...          ...           ...        ...   \n",
       "1456  07-10-2022     Australia  West Indies     Australia    31 runs   \n",
       "1457  08-10-2022   New Zealand     Pakistan      Pakistan  6 wickets   \n",
       "1458  09-10-2022         Japan    Indonesia         Japan    64 runs   \n",
       "1459  09-10-2022   New Zealand   Bangladesh   New Zealand  8 wickets   \n",
       "1460  09-10-2022     Australia      England       England     8 runs   \n",
       "\n",
       "            Ground  \n",
       "0     Johannesburg  \n",
       "1           Durban  \n",
       "2           Durban  \n",
       "3        Cape Town  \n",
       "4     Johannesburg  \n",
       "...            ...  \n",
       "1456      Brisbane  \n",
       "1457  Christchurch  \n",
       "1458          Sano  \n",
       "1459  Christchurch  \n",
       "1460         Perth  \n",
       "\n",
       "[1461 rows x 6 columns]>"
      ]
     },
     "execution_count": 5,
     "metadata": {},
     "output_type": "execute_result"
    }
   ],
   "source": [
    "results.info"
   ]
  },
  {
   "cell_type": "code",
   "execution_count": 6,
   "id": "1183a641",
   "metadata": {},
   "outputs": [
    {
     "data": {
      "text/html": [
       "<div>\n",
       "<style scoped>\n",
       "    .dataframe tbody tr th:only-of-type {\n",
       "        vertical-align: middle;\n",
       "    }\n",
       "\n",
       "    .dataframe tbody tr th {\n",
       "        vertical-align: top;\n",
       "    }\n",
       "\n",
       "    .dataframe thead th {\n",
       "        text-align: right;\n",
       "    }\n",
       "</style>\n",
       "<table border=\"1\" class=\"dataframe\">\n",
       "  <thead>\n",
       "    <tr style=\"text-align: right;\">\n",
       "      <th></th>\n",
       "      <th>Date</th>\n",
       "      <th>Team_1</th>\n",
       "      <th>Team_2</th>\n",
       "      <th>Winner</th>\n",
       "      <th>Margin</th>\n",
       "      <th>Ground</th>\n",
       "    </tr>\n",
       "  </thead>\n",
       "  <tbody>\n",
       "    <tr>\n",
       "      <th>0</th>\n",
       "      <td>09-11-2007</td>\n",
       "      <td>South Africa</td>\n",
       "      <td>West Indies</td>\n",
       "      <td>South Africa</td>\n",
       "      <td>8 wickets</td>\n",
       "      <td>Johannesburg</td>\n",
       "    </tr>\n",
       "    <tr>\n",
       "      <th>1</th>\n",
       "      <td>09-12-2007</td>\n",
       "      <td>Kenya</td>\n",
       "      <td>New Zealand</td>\n",
       "      <td>New Zealand</td>\n",
       "      <td>9 wickets</td>\n",
       "      <td>Durban</td>\n",
       "    </tr>\n",
       "    <tr>\n",
       "      <th>2</th>\n",
       "      <td>09-12-2007</td>\n",
       "      <td>Pakistan</td>\n",
       "      <td>Scotland</td>\n",
       "      <td>Pakistan</td>\n",
       "      <td>51 runs</td>\n",
       "      <td>Durban</td>\n",
       "    </tr>\n",
       "    <tr>\n",
       "      <th>3</th>\n",
       "      <td>09-12-2007</td>\n",
       "      <td>Australia</td>\n",
       "      <td>Zimbabwe</td>\n",
       "      <td>Zimbabwe</td>\n",
       "      <td>5 wickets</td>\n",
       "      <td>Cape Town</td>\n",
       "    </tr>\n",
       "    <tr>\n",
       "      <th>4</th>\n",
       "      <td>13-09-2007</td>\n",
       "      <td>Bangladesh</td>\n",
       "      <td>West Indies</td>\n",
       "      <td>Bangladesh</td>\n",
       "      <td>6 wickets</td>\n",
       "      <td>Johannesburg</td>\n",
       "    </tr>\n",
       "  </tbody>\n",
       "</table>\n",
       "</div>"
      ],
      "text/plain": [
       "         Date        Team_1       Team_2        Winner     Margin  \\\n",
       "0  09-11-2007  South Africa  West Indies  South Africa  8 wickets   \n",
       "1  09-12-2007         Kenya  New Zealand   New Zealand  9 wickets   \n",
       "2  09-12-2007      Pakistan     Scotland      Pakistan    51 runs   \n",
       "3  09-12-2007     Australia     Zimbabwe      Zimbabwe  5 wickets   \n",
       "4  13-09-2007    Bangladesh  West Indies    Bangladesh  6 wickets   \n",
       "\n",
       "         Ground  \n",
       "0  Johannesburg  \n",
       "1        Durban  \n",
       "2        Durban  \n",
       "3     Cape Town  \n",
       "4  Johannesburg  "
      ]
     },
     "execution_count": 6,
     "metadata": {},
     "output_type": "execute_result"
    }
   ],
   "source": [
    "results.head()"
   ]
  },
  {
   "cell_type": "code",
   "execution_count": 7,
   "id": "d0506ae2",
   "metadata": {},
   "outputs": [
    {
     "data": {
      "text/plain": [
       "Date       0\n",
       "Team_1     0\n",
       "Team_2     0\n",
       "Winner     5\n",
       "Margin    43\n",
       "Ground     0\n",
       "dtype: int64"
      ]
     },
     "execution_count": 7,
     "metadata": {},
     "output_type": "execute_result"
    }
   ],
   "source": [
    "results.isnull().sum()"
   ]
  },
  {
   "cell_type": "code",
   "execution_count": 8,
   "id": "e5fe52db",
   "metadata": {},
   "outputs": [
    {
     "data": {
      "text/html": [
       "<div>\n",
       "<style scoped>\n",
       "    .dataframe tbody tr th:only-of-type {\n",
       "        vertical-align: middle;\n",
       "    }\n",
       "\n",
       "    .dataframe tbody tr th {\n",
       "        vertical-align: top;\n",
       "    }\n",
       "\n",
       "    .dataframe thead th {\n",
       "        text-align: right;\n",
       "    }\n",
       "</style>\n",
       "<table border=\"1\" class=\"dataframe\">\n",
       "  <thead>\n",
       "    <tr style=\"text-align: right;\">\n",
       "      <th></th>\n",
       "      <th>Date</th>\n",
       "      <th>Team_1</th>\n",
       "      <th>Team_2</th>\n",
       "      <th>Winner</th>\n",
       "      <th>Margin</th>\n",
       "      <th>Ground</th>\n",
       "    </tr>\n",
       "  </thead>\n",
       "  <tbody>\n",
       "    <tr>\n",
       "      <th>0</th>\n",
       "      <td>09-11-2007</td>\n",
       "      <td>South Africa</td>\n",
       "      <td>West Indies</td>\n",
       "      <td>South Africa</td>\n",
       "      <td>8 wickets</td>\n",
       "      <td>Johannesburg</td>\n",
       "    </tr>\n",
       "    <tr>\n",
       "      <th>1</th>\n",
       "      <td>09-12-2007</td>\n",
       "      <td>Kenya</td>\n",
       "      <td>New Zealand</td>\n",
       "      <td>New Zealand</td>\n",
       "      <td>9 wickets</td>\n",
       "      <td>Durban</td>\n",
       "    </tr>\n",
       "    <tr>\n",
       "      <th>2</th>\n",
       "      <td>09-12-2007</td>\n",
       "      <td>Pakistan</td>\n",
       "      <td>Scotland</td>\n",
       "      <td>Pakistan</td>\n",
       "      <td>51 runs</td>\n",
       "      <td>Durban</td>\n",
       "    </tr>\n",
       "    <tr>\n",
       "      <th>3</th>\n",
       "      <td>09-12-2007</td>\n",
       "      <td>Australia</td>\n",
       "      <td>Zimbabwe</td>\n",
       "      <td>Zimbabwe</td>\n",
       "      <td>5 wickets</td>\n",
       "      <td>Cape Town</td>\n",
       "    </tr>\n",
       "    <tr>\n",
       "      <th>4</th>\n",
       "      <td>13-09-2007</td>\n",
       "      <td>Bangladesh</td>\n",
       "      <td>West Indies</td>\n",
       "      <td>Bangladesh</td>\n",
       "      <td>6 wickets</td>\n",
       "      <td>Johannesburg</td>\n",
       "    </tr>\n",
       "    <tr>\n",
       "      <th>...</th>\n",
       "      <td>...</td>\n",
       "      <td>...</td>\n",
       "      <td>...</td>\n",
       "      <td>...</td>\n",
       "      <td>...</td>\n",
       "      <td>...</td>\n",
       "    </tr>\n",
       "    <tr>\n",
       "      <th>1410</th>\n",
       "      <td>07-10-2022</td>\n",
       "      <td>Australia</td>\n",
       "      <td>West Indies</td>\n",
       "      <td>Australia</td>\n",
       "      <td>31 runs</td>\n",
       "      <td>Brisbane</td>\n",
       "    </tr>\n",
       "    <tr>\n",
       "      <th>1411</th>\n",
       "      <td>08-10-2022</td>\n",
       "      <td>New Zealand</td>\n",
       "      <td>Pakistan</td>\n",
       "      <td>Pakistan</td>\n",
       "      <td>6 wickets</td>\n",
       "      <td>Christchurch</td>\n",
       "    </tr>\n",
       "    <tr>\n",
       "      <th>1412</th>\n",
       "      <td>09-10-2022</td>\n",
       "      <td>Japan</td>\n",
       "      <td>Indonesia</td>\n",
       "      <td>Japan</td>\n",
       "      <td>64 runs</td>\n",
       "      <td>Sano</td>\n",
       "    </tr>\n",
       "    <tr>\n",
       "      <th>1413</th>\n",
       "      <td>09-10-2022</td>\n",
       "      <td>New Zealand</td>\n",
       "      <td>Bangladesh</td>\n",
       "      <td>New Zealand</td>\n",
       "      <td>8 wickets</td>\n",
       "      <td>Christchurch</td>\n",
       "    </tr>\n",
       "    <tr>\n",
       "      <th>1414</th>\n",
       "      <td>09-10-2022</td>\n",
       "      <td>Australia</td>\n",
       "      <td>England</td>\n",
       "      <td>England</td>\n",
       "      <td>8 runs</td>\n",
       "      <td>Perth</td>\n",
       "    </tr>\n",
       "  </tbody>\n",
       "</table>\n",
       "<p>1415 rows × 6 columns</p>\n",
       "</div>"
      ],
      "text/plain": [
       "            Date        Team_1       Team_2        Winner     Margin  \\\n",
       "0     09-11-2007  South Africa  West Indies  South Africa  8 wickets   \n",
       "1     09-12-2007         Kenya  New Zealand   New Zealand  9 wickets   \n",
       "2     09-12-2007      Pakistan     Scotland      Pakistan    51 runs   \n",
       "3     09-12-2007     Australia     Zimbabwe      Zimbabwe  5 wickets   \n",
       "4     13-09-2007    Bangladesh  West Indies    Bangladesh  6 wickets   \n",
       "...          ...           ...          ...           ...        ...   \n",
       "1410  07-10-2022     Australia  West Indies     Australia    31 runs   \n",
       "1411  08-10-2022   New Zealand     Pakistan      Pakistan  6 wickets   \n",
       "1412  09-10-2022         Japan    Indonesia         Japan    64 runs   \n",
       "1413  09-10-2022   New Zealand   Bangladesh   New Zealand  8 wickets   \n",
       "1414  09-10-2022     Australia      England       England     8 runs   \n",
       "\n",
       "            Ground  \n",
       "0     Johannesburg  \n",
       "1           Durban  \n",
       "2           Durban  \n",
       "3        Cape Town  \n",
       "4     Johannesburg  \n",
       "...            ...  \n",
       "1410      Brisbane  \n",
       "1411  Christchurch  \n",
       "1412          Sano  \n",
       "1413  Christchurch  \n",
       "1414         Perth  \n",
       "\n",
       "[1415 rows x 6 columns]"
      ]
     },
     "execution_count": 8,
     "metadata": {},
     "output_type": "execute_result"
    }
   ],
   "source": [
    "df = results.dropna()\n",
    "df.reset_index(drop=True)"
   ]
  },
  {
   "cell_type": "code",
   "execution_count": 9,
   "id": "683ff43c",
   "metadata": {},
   "outputs": [
    {
     "data": {
      "text/plain": [
       "Date      0\n",
       "Team_1    0\n",
       "Team_2    0\n",
       "Winner    0\n",
       "Margin    0\n",
       "Ground    0\n",
       "dtype: int64"
      ]
     },
     "execution_count": 9,
     "metadata": {},
     "output_type": "execute_result"
    }
   ],
   "source": [
    "df.isnull().sum()"
   ]
  },
  {
   "cell_type": "code",
   "execution_count": 10,
   "id": "d72dbf6c",
   "metadata": {},
   "outputs": [
    {
     "data": {
      "text/html": [
       "<div>\n",
       "<style scoped>\n",
       "    .dataframe tbody tr th:only-of-type {\n",
       "        vertical-align: middle;\n",
       "    }\n",
       "\n",
       "    .dataframe tbody tr th {\n",
       "        vertical-align: top;\n",
       "    }\n",
       "\n",
       "    .dataframe thead th {\n",
       "        text-align: right;\n",
       "    }\n",
       "</style>\n",
       "<table border=\"1\" class=\"dataframe\">\n",
       "  <thead>\n",
       "    <tr style=\"text-align: right;\">\n",
       "      <th></th>\n",
       "      <th>Date</th>\n",
       "      <th>Team_1</th>\n",
       "      <th>Team_2</th>\n",
       "      <th>Winner</th>\n",
       "      <th>Margin</th>\n",
       "      <th>Ground</th>\n",
       "    </tr>\n",
       "  </thead>\n",
       "  <tbody>\n",
       "    <tr>\n",
       "      <th>0</th>\n",
       "      <td>09-11-2007</td>\n",
       "      <td>South Africa</td>\n",
       "      <td>West Indies</td>\n",
       "      <td>South Africa</td>\n",
       "      <td>8 wickets</td>\n",
       "      <td>Johannesburg</td>\n",
       "    </tr>\n",
       "    <tr>\n",
       "      <th>1</th>\n",
       "      <td>09-12-2007</td>\n",
       "      <td>Kenya</td>\n",
       "      <td>New Zealand</td>\n",
       "      <td>New Zealand</td>\n",
       "      <td>9 wickets</td>\n",
       "      <td>Durban</td>\n",
       "    </tr>\n",
       "    <tr>\n",
       "      <th>2</th>\n",
       "      <td>09-12-2007</td>\n",
       "      <td>Pakistan</td>\n",
       "      <td>Scotland</td>\n",
       "      <td>Pakistan</td>\n",
       "      <td>51 runs</td>\n",
       "      <td>Durban</td>\n",
       "    </tr>\n",
       "    <tr>\n",
       "      <th>3</th>\n",
       "      <td>09-12-2007</td>\n",
       "      <td>Australia</td>\n",
       "      <td>Zimbabwe</td>\n",
       "      <td>Zimbabwe</td>\n",
       "      <td>5 wickets</td>\n",
       "      <td>Cape Town</td>\n",
       "    </tr>\n",
       "    <tr>\n",
       "      <th>4</th>\n",
       "      <td>13-09-2007</td>\n",
       "      <td>Bangladesh</td>\n",
       "      <td>West Indies</td>\n",
       "      <td>Bangladesh</td>\n",
       "      <td>6 wickets</td>\n",
       "      <td>Johannesburg</td>\n",
       "    </tr>\n",
       "  </tbody>\n",
       "</table>\n",
       "</div>"
      ],
      "text/plain": [
       "         Date        Team_1       Team_2        Winner     Margin  \\\n",
       "0  09-11-2007  South Africa  West Indies  South Africa  8 wickets   \n",
       "1  09-12-2007         Kenya  New Zealand   New Zealand  9 wickets   \n",
       "2  09-12-2007      Pakistan     Scotland      Pakistan    51 runs   \n",
       "3  09-12-2007     Australia     Zimbabwe      Zimbabwe  5 wickets   \n",
       "4  13-09-2007    Bangladesh  West Indies    Bangladesh  6 wickets   \n",
       "\n",
       "         Ground  \n",
       "0  Johannesburg  \n",
       "1        Durban  \n",
       "2        Durban  \n",
       "3     Cape Town  \n",
       "4  Johannesburg  "
      ]
     },
     "execution_count": 10,
     "metadata": {},
     "output_type": "execute_result"
    }
   ],
   "source": [
    "df.head()"
   ]
  },
  {
   "cell_type": "code",
   "execution_count": 11,
   "id": "bcacc607",
   "metadata": {},
   "outputs": [
    {
     "name": "stdout",
     "output_type": "stream",
     "text": [
      "<class 'pandas.core.frame.DataFrame'>\n",
      "Int64Index: 1415 entries, 0 to 1460\n",
      "Data columns (total 6 columns):\n",
      " #   Column  Non-Null Count  Dtype \n",
      "---  ------  --------------  ----- \n",
      " 0   Date    1415 non-null   object\n",
      " 1   Team_1  1415 non-null   object\n",
      " 2   Team_2  1415 non-null   object\n",
      " 3   Winner  1415 non-null   object\n",
      " 4   Margin  1415 non-null   object\n",
      " 5   Ground  1415 non-null   object\n",
      "dtypes: object(6)\n",
      "memory usage: 77.4+ KB\n"
     ]
    }
   ],
   "source": [
    "df.info()"
   ]
  },
  {
   "cell_type": "code",
   "execution_count": 12,
   "id": "84d36d9f",
   "metadata": {},
   "outputs": [
    {
     "data": {
      "text/plain": [
       "<bound method IndexOpsMixin.value_counts of 0       8 wickets\n",
       "1       9 wickets\n",
       "2         51 runs\n",
       "3       5 wickets\n",
       "4       6 wickets\n",
       "          ...    \n",
       "1456      31 runs\n",
       "1457    6 wickets\n",
       "1458      64 runs\n",
       "1459    8 wickets\n",
       "1460       8 runs\n",
       "Name: Margin, Length: 1415, dtype: object>"
      ]
     },
     "execution_count": 12,
     "metadata": {},
     "output_type": "execute_result"
    }
   ],
   "source": [
    "df['Margin'].value_counts"
   ]
  },
  {
   "cell_type": "code",
   "execution_count": 13,
   "id": "fdd1d429",
   "metadata": {},
   "outputs": [
    {
     "data": {
      "text/html": [
       "<div>\n",
       "<style scoped>\n",
       "    .dataframe tbody tr th:only-of-type {\n",
       "        vertical-align: middle;\n",
       "    }\n",
       "\n",
       "    .dataframe tbody tr th {\n",
       "        vertical-align: top;\n",
       "    }\n",
       "\n",
       "    .dataframe thead th {\n",
       "        text-align: right;\n",
       "    }\n",
       "</style>\n",
       "<table border=\"1\" class=\"dataframe\">\n",
       "  <thead>\n",
       "    <tr style=\"text-align: right;\">\n",
       "      <th></th>\n",
       "      <th>Team_1</th>\n",
       "      <th>Team_2</th>\n",
       "      <th>Winner</th>\n",
       "    </tr>\n",
       "  </thead>\n",
       "  <tbody>\n",
       "    <tr>\n",
       "      <th>0</th>\n",
       "      <td>South Africa</td>\n",
       "      <td>West Indies</td>\n",
       "      <td>South Africa</td>\n",
       "    </tr>\n",
       "    <tr>\n",
       "      <th>1</th>\n",
       "      <td>Kenya</td>\n",
       "      <td>New Zealand</td>\n",
       "      <td>New Zealand</td>\n",
       "    </tr>\n",
       "    <tr>\n",
       "      <th>2</th>\n",
       "      <td>Pakistan</td>\n",
       "      <td>Scotland</td>\n",
       "      <td>Pakistan</td>\n",
       "    </tr>\n",
       "    <tr>\n",
       "      <th>3</th>\n",
       "      <td>Australia</td>\n",
       "      <td>Zimbabwe</td>\n",
       "      <td>Zimbabwe</td>\n",
       "    </tr>\n",
       "    <tr>\n",
       "      <th>4</th>\n",
       "      <td>Bangladesh</td>\n",
       "      <td>West Indies</td>\n",
       "      <td>Bangladesh</td>\n",
       "    </tr>\n",
       "    <tr>\n",
       "      <th>...</th>\n",
       "      <td>...</td>\n",
       "      <td>...</td>\n",
       "      <td>...</td>\n",
       "    </tr>\n",
       "    <tr>\n",
       "      <th>1456</th>\n",
       "      <td>Australia</td>\n",
       "      <td>West Indies</td>\n",
       "      <td>Australia</td>\n",
       "    </tr>\n",
       "    <tr>\n",
       "      <th>1457</th>\n",
       "      <td>New Zealand</td>\n",
       "      <td>Pakistan</td>\n",
       "      <td>Pakistan</td>\n",
       "    </tr>\n",
       "    <tr>\n",
       "      <th>1458</th>\n",
       "      <td>Japan</td>\n",
       "      <td>Indonesia</td>\n",
       "      <td>Japan</td>\n",
       "    </tr>\n",
       "    <tr>\n",
       "      <th>1459</th>\n",
       "      <td>New Zealand</td>\n",
       "      <td>Bangladesh</td>\n",
       "      <td>New Zealand</td>\n",
       "    </tr>\n",
       "    <tr>\n",
       "      <th>1460</th>\n",
       "      <td>Australia</td>\n",
       "      <td>England</td>\n",
       "      <td>England</td>\n",
       "    </tr>\n",
       "  </tbody>\n",
       "</table>\n",
       "<p>1415 rows × 3 columns</p>\n",
       "</div>"
      ],
      "text/plain": [
       "            Team_1       Team_2        Winner\n",
       "0     South Africa  West Indies  South Africa\n",
       "1            Kenya  New Zealand   New Zealand\n",
       "2         Pakistan     Scotland      Pakistan\n",
       "3        Australia     Zimbabwe      Zimbabwe\n",
       "4       Bangladesh  West Indies    Bangladesh\n",
       "...            ...          ...           ...\n",
       "1456     Australia  West Indies     Australia\n",
       "1457   New Zealand     Pakistan      Pakistan\n",
       "1458         Japan    Indonesia         Japan\n",
       "1459   New Zealand   Bangladesh   New Zealand\n",
       "1460     Australia      England       England\n",
       "\n",
       "[1415 rows x 3 columns]"
      ]
     },
     "execution_count": 13,
     "metadata": {},
     "output_type": "execute_result"
    }
   ],
   "source": [
    "df.isnull().sum()\n",
    "df_teams_2010 = df.drop(['Date','Margin', 'Ground'], axis=1)\n",
    "df_teams_2010\n",
    "# Dropping columns (Date axis, Margin axis, Ground axis) from dataset"
   ]
  },
  {
   "cell_type": "code",
   "execution_count": 14,
   "id": "bd158fa5",
   "metadata": {},
   "outputs": [],
   "source": [
    "name_of_teams=df_teams_2010.loc[:,\"Team_1\"]\n",
    "\n"
   ]
  },
  {
   "cell_type": "code",
   "execution_count": 15,
   "id": "f6126b20",
   "metadata": {},
   "outputs": [
    {
     "name": "stdout",
     "output_type": "stream",
     "text": [
      "98\n"
     ]
    }
   ],
   "source": [
    "unique_team_names=[]\n",
    "for i in name_of_teams:\n",
    "    if i not in unique_team_names:\n",
    "        unique_team_names.append(i)\n",
    "print(len(unique_team_names))"
   ]
  },
  {
   "cell_type": "code",
   "execution_count": 16,
   "id": "4631ddce",
   "metadata": {},
   "outputs": [
    {
     "data": {
      "text/plain": [
       "array(['8 wickets', '9 wickets', '51 runs', '5 wickets', '6 wickets',\n",
       "       '50 runs', '172 runs', 'tied', '7 wickets', '10 runs', '19 runs',\n",
       "       '33 runs', '5 runs', '64 runs', '18 runs', '10 wickets',\n",
       "       '4 wickets', '37 runs', '15 runs', '25 runs', '130 runs',\n",
       "       '48 runs', '82 runs', '1 run', '83 runs', '20 runs', '9 runs',\n",
       "       '3 runs', '39 runs', '5 wickets(D/L method)', '12 runs', '7 runs',\n",
       "       '57 runs', '2 wickets', '70 runs', '21 runs', '14 runs', '34 runs',\n",
       "       '14 runs (D/L method)', '8 wickets (D/L method)',\n",
       "       '7 runs (D/L method)', '27 runs', '59 runs', '13 runs', '49 runs',\n",
       "       '81 runs', '11 runs', '3 wickets', '23 runs', '116 runs',\n",
       "       '32 runs', '17 runs (D/L method)', '90 runs',\n",
       "       'one-over eliminator', '16 runs', '74 runs', '36 runs', '80 runs',\n",
       "       '21 runs (D/L method)', '9 runs (D/L Method)', '2 runs', '73 runs',\n",
       "       '6 runs', '45 runs', '84 runs', '27 runs (D/L method)', '8 runs',\n",
       "       '8 wickets DLS method', '54 runs DLS method', '47 runs', '55 runs',\n",
       "       '22 runs', '75 runs', '24 runs', '91 runs', '98 runs', '78 runs',\n",
       "       '41 runs', '17 runs', '28 runs', '30 runs', '29 runs', '53 runs',\n",
       "       '40 runs', '93 runs', '88 runs', '119 runs', '143 runs', '72 runs',\n",
       "       '4 runs', '46 runs', '115 runs', '76 runs', '100 runs', '66 runs',\n",
       "       '71 runs', '35 runs', '1 wicket', '137 runs', '133 runs',\n",
       "       '63 runs', '109 runs', '62 runs', '52 runs', '42 runs', '38 runs',\n",
       "       '124 runs', '31 runs', '173 runs', '257 runs', '135 runs',\n",
       "       '58 runs', '26 runs', '60 runs', '43 runs', '69 runs', '44 runs',\n",
       "       '87 runs', '92 runs', '134 runs', '54 runs', '141 runs', '67 runs',\n",
       "       '107 runs', '106 runs', '65 runs', '97 runs', '102 runs',\n",
       "       '128 runs', ' 84 runs', ' 6 wickets', '5 wkts', '142 runs',\n",
       "       '61 runs', '89 runs', '56 runs', '96 runs', '110 runs', '79 runs',\n",
       "       '95 runs', '171 runs', '178 runs', '122 runs', '145 runs',\n",
       "       '140 runs', '86 runs', '208 runs', '118 runs', '136 runs',\n",
       "       '68 runs', '85 runs', '105 runs', '111 runs', '132 runs',\n",
       "       '155 runs', '94 runs', '166 runs', '120 runs', '158 runs',\n",
       "       '101 runs'], dtype=object)"
      ]
     },
     "execution_count": 16,
     "metadata": {},
     "output_type": "execute_result"
    }
   ],
   "source": [
    "df['Margin'].unique()"
   ]
  },
  {
   "cell_type": "code",
   "execution_count": 17,
   "id": "b2ee9869",
   "metadata": {},
   "outputs": [],
   "source": [
    "# new_df = df[(df['Team_1'] == 'India') | (df['Team_2'] == 'India')]\n",
    "# india = new_df.iloc[:]\n",
    "# india.head()"
   ]
  },
  {
   "cell_type": "code",
   "execution_count": 18,
   "id": "68dedf88",
   "metadata": {},
   "outputs": [],
   "source": [
    "# year = []\n",
    "# for row in india['Date']:\n",
    "#     year.append(int(row[7:]))\n",
    "# india ['match_year']= year\n",
    "# india_2010 = india[india.match_year >= 10]\n",
    "# india_2010.count()"
   ]
  },
  {
   "cell_type": "code",
   "execution_count": 19,
   "id": "baee1e5a",
   "metadata": {},
   "outputs": [],
   "source": [
    "# worldcup_teams = ['England', 'South Africa', 'Netherlands', 'Zimbabwe','Pakistan', 'New Zealand', 'Sri Lanka', 'Afghanistan','Australia', 'Bangladesh', 'India', 'Ireland']\n",
    "# df_teams_1 = df[df['Team_1'].isin(worldcup_teams)]\n",
    "# df_teams_2 = df[df['Team_2'].isin(worldcup_teams)]\n",
    "# df_teams = pd.concat((df_teams_1, df_teams_2))\n",
    "# df_teams.drop_duplicates()\n",
    "# df_teams.count()"
   ]
  },
  {
   "cell_type": "code",
   "execution_count": 20,
   "id": "ce89b814",
   "metadata": {},
   "outputs": [],
   "source": [
    "# df_teams_2010 = df_teams.drop(['Date','Margin', 'Ground'], axis=1)\n",
    "# df_teams_2010.head()"
   ]
  },
  {
   "cell_type": "code",
   "execution_count": 21,
   "id": "89e7cb3e",
   "metadata": {},
   "outputs": [],
   "source": [
    "# df_teams_2010 = df_teams_2010.reset_index(drop=True)\n",
    "# df_teams_2010.loc[df_teams_2010.Winner == df_teams_2010.Team_1,'winning_team']=1\n",
    "# df_teams_2010.loc[df_teams_2010.Winner == df_teams_2010.Team_2, 'winning_team']=2\n",
    "# df_teams_2010 = df_teams_2010.drop(['winning_team'], axis=1)\n",
    "\n",
    "# df_teams_2010.head()"
   ]
  },
  {
   "cell_type": "code",
   "execution_count": 22,
   "id": "3dc029b9",
   "metadata": {},
   "outputs": [
    {
     "data": {
      "text/html": [
       "<div>\n",
       "<style scoped>\n",
       "    .dataframe tbody tr th:only-of-type {\n",
       "        vertical-align: middle;\n",
       "    }\n",
       "\n",
       "    .dataframe tbody tr th {\n",
       "        vertical-align: top;\n",
       "    }\n",
       "\n",
       "    .dataframe thead th {\n",
       "        text-align: right;\n",
       "    }\n",
       "</style>\n",
       "<table border=\"1\" class=\"dataframe\">\n",
       "  <thead>\n",
       "    <tr style=\"text-align: right;\">\n",
       "      <th></th>\n",
       "      <th>Team_1</th>\n",
       "      <th>Team_2</th>\n",
       "      <th>Winner</th>\n",
       "    </tr>\n",
       "  </thead>\n",
       "  <tbody>\n",
       "    <tr>\n",
       "      <th>0</th>\n",
       "      <td>South Africa</td>\n",
       "      <td>West Indies</td>\n",
       "      <td>South Africa</td>\n",
       "    </tr>\n",
       "    <tr>\n",
       "      <th>1</th>\n",
       "      <td>Kenya</td>\n",
       "      <td>New Zealand</td>\n",
       "      <td>New Zealand</td>\n",
       "    </tr>\n",
       "    <tr>\n",
       "      <th>2</th>\n",
       "      <td>Pakistan</td>\n",
       "      <td>Scotland</td>\n",
       "      <td>Pakistan</td>\n",
       "    </tr>\n",
       "    <tr>\n",
       "      <th>3</th>\n",
       "      <td>Australia</td>\n",
       "      <td>Zimbabwe</td>\n",
       "      <td>Zimbabwe</td>\n",
       "    </tr>\n",
       "    <tr>\n",
       "      <th>4</th>\n",
       "      <td>Bangladesh</td>\n",
       "      <td>West Indies</td>\n",
       "      <td>Bangladesh</td>\n",
       "    </tr>\n",
       "    <tr>\n",
       "      <th>...</th>\n",
       "      <td>...</td>\n",
       "      <td>...</td>\n",
       "      <td>...</td>\n",
       "    </tr>\n",
       "    <tr>\n",
       "      <th>1456</th>\n",
       "      <td>Australia</td>\n",
       "      <td>West Indies</td>\n",
       "      <td>Australia</td>\n",
       "    </tr>\n",
       "    <tr>\n",
       "      <th>1457</th>\n",
       "      <td>New Zealand</td>\n",
       "      <td>Pakistan</td>\n",
       "      <td>Pakistan</td>\n",
       "    </tr>\n",
       "    <tr>\n",
       "      <th>1458</th>\n",
       "      <td>Japan</td>\n",
       "      <td>Indonesia</td>\n",
       "      <td>Japan</td>\n",
       "    </tr>\n",
       "    <tr>\n",
       "      <th>1459</th>\n",
       "      <td>New Zealand</td>\n",
       "      <td>Bangladesh</td>\n",
       "      <td>New Zealand</td>\n",
       "    </tr>\n",
       "    <tr>\n",
       "      <th>1460</th>\n",
       "      <td>Australia</td>\n",
       "      <td>England</td>\n",
       "      <td>England</td>\n",
       "    </tr>\n",
       "  </tbody>\n",
       "</table>\n",
       "<p>1415 rows × 3 columns</p>\n",
       "</div>"
      ],
      "text/plain": [
       "            Team_1       Team_2        Winner\n",
       "0     South Africa  West Indies  South Africa\n",
       "1            Kenya  New Zealand   New Zealand\n",
       "2         Pakistan     Scotland      Pakistan\n",
       "3        Australia     Zimbabwe      Zimbabwe\n",
       "4       Bangladesh  West Indies    Bangladesh\n",
       "...            ...          ...           ...\n",
       "1456     Australia  West Indies     Australia\n",
       "1457   New Zealand     Pakistan      Pakistan\n",
       "1458         Japan    Indonesia         Japan\n",
       "1459   New Zealand   Bangladesh   New Zealand\n",
       "1460     Australia      England       England\n",
       "\n",
       "[1415 rows x 3 columns]"
      ]
     },
     "execution_count": 22,
     "metadata": {},
     "output_type": "execute_result"
    }
   ],
   "source": [
    "df_teams_2010"
   ]
  },
  {
   "cell_type": "code",
   "execution_count": 23,
   "id": "278993f1",
   "metadata": {},
   "outputs": [
    {
     "data": {
      "text/plain": [
       "0       South Africa\n",
       "1        New Zealand\n",
       "2           Pakistan\n",
       "3           Zimbabwe\n",
       "4         Bangladesh\n",
       "            ...     \n",
       "1456       Australia\n",
       "1457        Pakistan\n",
       "1458           Japan\n",
       "1459     New Zealand\n",
       "1460         England\n",
       "Name: Winner, Length: 1415, dtype: object"
      ]
     },
     "execution_count": 23,
     "metadata": {},
     "output_type": "execute_result"
    }
   ],
   "source": [
    "df_teams_2010[\"Winner\"]\n"
   ]
  },
  {
   "cell_type": "code",
   "execution_count": 24,
   "id": "9af7e11a",
   "metadata": {},
   "outputs": [
    {
     "data": {
      "text/plain": [
       "89"
      ]
     },
     "execution_count": 24,
     "metadata": {},
     "output_type": "execute_result"
    }
   ],
   "source": [
    "unique_name_winner=df_teams_2010[\"Winner\"]\n",
    "unique_name_final_val=[]\n",
    "for i in unique_name_winner:\n",
    "    if i not in unique_name_final_val:\n",
    "        unique_name_final_val.append(i)\n",
    "len(unique_name_final_val)"
   ]
  },
  {
   "cell_type": "code",
   "execution_count": null,
   "id": "1e104690",
   "metadata": {},
   "outputs": [],
   "source": []
  },
  {
   "cell_type": "code",
   "execution_count": 25,
   "id": "6d73192f",
   "metadata": {},
   "outputs": [
    {
     "data": {
      "text/plain": [
       "0       West Indies\n",
       "1       New Zealand\n",
       "2          Scotland\n",
       "3          Zimbabwe\n",
       "4       West Indies\n",
       "           ...     \n",
       "1456    West Indies\n",
       "1457       Pakistan\n",
       "1458      Indonesia\n",
       "1459     Bangladesh\n",
       "1460        England\n",
       "Name: Team_2, Length: 1415, dtype: object"
      ]
     },
     "execution_count": 25,
     "metadata": {},
     "output_type": "execute_result"
    }
   ],
   "source": [
    "features1=df_teams_2010.loc[:,\"Team_1\"]\n",
    "features1\n",
    "features2=df_teams_2010.loc[:,\"Team_2\"]\n",
    "features2"
   ]
  },
  {
   "cell_type": "code",
   "execution_count": 26,
   "id": "59e5ed72",
   "metadata": {},
   "outputs": [
    {
     "data": {
      "text/plain": [
       "0       South Africa\n",
       "1        New Zealand\n",
       "2           Pakistan\n",
       "3           Zimbabwe\n",
       "4         Bangladesh\n",
       "            ...     \n",
       "1456       Australia\n",
       "1457        Pakistan\n",
       "1458           Japan\n",
       "1459     New Zealand\n",
       "1460         England\n",
       "Name: Winner, Length: 1415, dtype: object"
      ]
     },
     "execution_count": 26,
     "metadata": {},
     "output_type": "execute_result"
    }
   ],
   "source": [
    "class_value=df_teams_2010.loc[:,\"Winner\"]\n",
    "class_value"
   ]
  },
  {
   "cell_type": "code",
   "execution_count": 27,
   "id": "e1b00f7b",
   "metadata": {},
   "outputs": [],
   "source": [
    "class_value_not=df_teams_2010.loc[:,\"Winner\"]"
   ]
  },
  {
   "cell_type": "code",
   "execution_count": null,
   "id": "a6ad4b55",
   "metadata": {},
   "outputs": [],
   "source": []
  },
  {
   "cell_type": "code",
   "execution_count": 28,
   "id": "3cb98451",
   "metadata": {},
   "outputs": [],
   "source": [
    "from sklearn.model_selection import permutation_test_score\n",
    "from sklearn.preprocessing import LabelEncoder\n",
    "from keras.utils import to_categorical"
   ]
  },
  {
   "cell_type": "code",
   "execution_count": 29,
   "id": "8e44b14d",
   "metadata": {},
   "outputs": [
    {
     "data": {
      "text/plain": [
       "array([[0., 0., 0., ..., 0., 0., 0.],\n",
       "       [0., 0., 0., ..., 0., 0., 0.],\n",
       "       [0., 0., 0., ..., 0., 0., 0.],\n",
       "       ...,\n",
       "       [0., 0., 0., ..., 0., 0., 0.],\n",
       "       [0., 0., 0., ..., 0., 0., 0.],\n",
       "       [0., 0., 0., ..., 0., 0., 0.]], dtype=float32)"
      ]
     },
     "execution_count": 29,
     "metadata": {},
     "output_type": "execute_result"
    }
   ],
   "source": [
    "lb=LabelEncoder()\n",
    "y1=to_categorical(lb.fit_transform(class_value))# main class value\n",
    "y1\n"
   ]
  },
  {
   "cell_type": "code",
   "execution_count": 30,
   "id": "490270b5",
   "metadata": {},
   "outputs": [
    {
     "data": {
      "text/plain": [
       "array([73, 53, 58, ..., 38, 53, 22])"
      ]
     },
     "execution_count": 30,
     "metadata": {},
     "output_type": "execute_result"
    }
   ],
   "source": [
    "lb=LabelEncoder()\n",
    "class_value=lb.fit_transform(class_value) # for smoting\n",
    "class_value"
   ]
  },
  {
   "cell_type": "code",
   "execution_count": 31,
   "id": "746dc038",
   "metadata": {},
   "outputs": [
    {
     "data": {
      "text/plain": [
       "array([86, 50, 70, ..., 48, 63,  2])"
      ]
     },
     "execution_count": 31,
     "metadata": {},
     "output_type": "execute_result"
    }
   ],
   "source": [
    "lb=LabelEncoder()\n",
    "features1=lb.fit_transform(features1)\n",
    "features1"
   ]
  },
  {
   "cell_type": "code",
   "execution_count": 32,
   "id": "3946fb81",
   "metadata": {},
   "outputs": [
    {
     "data": {
      "text/plain": [
       "array([93, 59, 73, ..., 38,  7, 25])"
      ]
     },
     "execution_count": 32,
     "metadata": {},
     "output_type": "execute_result"
    }
   ],
   "source": [
    "lb=LabelEncoder()\n",
    "features2=lb.fit_transform(features2)\n",
    "features2"
   ]
  },
  {
   "cell_type": "code",
   "execution_count": 33,
   "id": "b5a93b7a",
   "metadata": {},
   "outputs": [
    {
     "data": {
      "text/plain": [
       "1415"
      ]
     },
     "execution_count": 33,
     "metadata": {},
     "output_type": "execute_result"
    }
   ],
   "source": [
    "len(features2)"
   ]
  },
  {
   "cell_type": "code",
   "execution_count": 34,
   "id": "d9e78c32",
   "metadata": {},
   "outputs": [],
   "source": [
    "features1=list(features1)\n",
    "features2=list(features2)"
   ]
  },
  {
   "cell_type": "code",
   "execution_count": 35,
   "id": "8a0ba49d",
   "metadata": {},
   "outputs": [],
   "source": [
    "ex=[]\n",
    "ex1=[]\n",
    "for i in range(len(features1)):\n",
    "    ex=[]\n",
    "    ex.append(features1[i])\n",
    "    ex.append(features2[i])\n",
    "    ex1.append(ex)\n",
    "#then collection run"
   ]
  },
  {
   "cell_type": "code",
   "execution_count": 36,
   "id": "4c820b37",
   "metadata": {},
   "outputs": [
    {
     "data": {
      "text/plain": [
       "[73,\n",
       " 53,\n",
       " 58,\n",
       " 88,\n",
       " 6,\n",
       " 22,\n",
       " 75,\n",
       " 2,\n",
       " 33,\n",
       " 75,\n",
       " 73,\n",
       " 53,\n",
       " 2,\n",
       " 73,\n",
       " 58,\n",
       " 53,\n",
       " 58,\n",
       " 75,\n",
       " 73,\n",
       " 33,\n",
       " 2,\n",
       " 58,\n",
       " 33,\n",
       " 58,\n",
       " 33,\n",
       " 33,\n",
       " 52,\n",
       " 53,\n",
       " 86,\n",
       " 33,\n",
       " 73,\n",
       " 22,\n",
       " 34,\n",
       " 75,\n",
       " 58,\n",
       " 73,\n",
       " 75,\n",
       " 33,\n",
       " 53,\n",
       " 73,\n",
       " 75,\n",
       " 86,\n",
       " 73,\n",
       " 58,\n",
       " 75,\n",
       " 22,\n",
       " 58,\n",
       " 86,\n",
       " 75,\n",
       " 73,\n",
       " 58,\n",
       " 75,\n",
       " 58,\n",
       " 53,\n",
       " 86,\n",
       " 33,\n",
       " 58,\n",
       " 33,\n",
       " 2,\n",
       " 75,\n",
       " 86,\n",
       " 53,\n",
       " 2,\n",
       " 73,\n",
       " 22,\n",
       " 73,\n",
       " 2,\n",
       " 75,\n",
       " 53,\n",
       " 22,\n",
       " 86,\n",
       " 2,\n",
       " 58,\n",
       " 22,\n",
       " 75,\n",
       " 2,\n",
       " 22,\n",
       " 2,\n",
       " 22,\n",
       " 75,\n",
       " 2,\n",
       " 33,\n",
       " 73,\n",
       " 53,\n",
       " 22,\n",
       " 73,\n",
       " 2,\n",
       " 58,\n",
       " 33,\n",
       " 58,\n",
       " 47,\n",
       " 86,\n",
       " 58,\n",
       " 2,\n",
       " 22,\n",
       " 75,\n",
       " 2,\n",
       " 33,\n",
       " 47,\n",
       " 75,\n",
       " 58,\n",
       " 33,\n",
       " 75,\n",
       " 86,\n",
       " 86,\n",
       " 6,\n",
       " 51,\n",
       " 34,\n",
       " 52,\n",
       " 0,\n",
       " 6,\n",
       " 88,\n",
       " 34,\n",
       " 51,\n",
       " 31,\n",
       " 88,\n",
       " 52,\n",
       " 33,\n",
       " 75,\n",
       " 53,\n",
       " 58,\n",
       " 33,\n",
       " 73,\n",
       " 75,\n",
       " 86,\n",
       " 73,\n",
       " 22,\n",
       " 86,\n",
       " 33,\n",
       " 53,\n",
       " 73,\n",
       " 58,\n",
       " 33,\n",
       " 52,\n",
       " 75,\n",
       " 2,\n",
       " 86,\n",
       " 75,\n",
       " 33,\n",
       " 75,\n",
       " 88,\n",
       " 0,\n",
       " 6,\n",
       " 56,\n",
       " 88,\n",
       " 0,\n",
       " 0,\n",
       " 68,\n",
       " 52,\n",
       " 6,\n",
       " 53,\n",
       " 58,\n",
       " 86,\n",
       " 75,\n",
       " 53,\n",
       " 22,\n",
       " 33,\n",
       " 73,\n",
       " 86,\n",
       " 2,\n",
       " 53,\n",
       " 22,\n",
       " 33,\n",
       " 2,\n",
       " 86,\n",
       " 53,\n",
       " 22,\n",
       " 0,\n",
       " 33,\n",
       " 73,\n",
       " 22,\n",
       " 86,\n",
       " 86,\n",
       " 53,\n",
       " 53,\n",
       " 53,\n",
       " 68,\n",
       " 0,\n",
       " 52,\n",
       " 56,\n",
       " 0,\n",
       " 68,\n",
       " 34,\n",
       " 31,\n",
       " 68,\n",
       " 0,\n",
       " 34,\n",
       " 0,\n",
       " 73,\n",
       " 75,\n",
       " 75,\n",
       " 22,\n",
       " 33,\n",
       " 33,\n",
       " 73,\n",
       " 75,\n",
       " 75,\n",
       " 2,\n",
       " 0,\n",
       " 0,\n",
       " 0,\n",
       " 58,\n",
       " 58,\n",
       " 86,\n",
       " 58,\n",
       " 75,\n",
       " 6,\n",
       " 82,\n",
       " 82,\n",
       " 82,\n",
       " 86,\n",
       " 86,\n",
       " 86,\n",
       " 22,\n",
       " 73,\n",
       " 22,\n",
       " 86,\n",
       " 33,\n",
       " 58,\n",
       " 87,\n",
       " 58,\n",
       " 86,\n",
       " 33,\n",
       " 2,\n",
       " 58,\n",
       " 73,\n",
       " 58,\n",
       " 73,\n",
       " 58,\n",
       " 33,\n",
       " 53,\n",
       " 33,\n",
       " 33,\n",
       " 33,\n",
       " 33,\n",
       " 53,\n",
       " 53,\n",
       " 53,\n",
       " 58,\n",
       " 58,\n",
       " 2,\n",
       " 0,\n",
       " 0,\n",
       " 2,\n",
       " 2,\n",
       " 53,\n",
       " 75,\n",
       " 2,\n",
       " 22,\n",
       " 75,\n",
       " 33,\n",
       " 2,\n",
       " 73,\n",
       " 33,\n",
       " 75,\n",
       " 33,\n",
       " 6,\n",
       " 33,\n",
       " 33,\n",
       " 6,\n",
       " 33,\n",
       " 58,\n",
       " 58,\n",
       " 58,\n",
       " 86,\n",
       " 0,\n",
       " 0,\n",
       " 0,\n",
       " 52,\n",
       " 58,\n",
       " 52,\n",
       " 58,\n",
       " 34,\n",
       " 68,\n",
       " 68,\n",
       " 33,\n",
       " 22,\n",
       " 33,\n",
       " 58,\n",
       " 2,\n",
       " 2,\n",
       " 33,\n",
       " 58,\n",
       " 58,\n",
       " 2,\n",
       " 22,\n",
       " 58,\n",
       " 33,\n",
       " 86,\n",
       " 6,\n",
       " 6,\n",
       " 75,\n",
       " 0,\n",
       " 0,\n",
       " 73,\n",
       " 73,\n",
       " 2,\n",
       " 58,\n",
       " 58,\n",
       " 22,\n",
       " 58,\n",
       " 58,\n",
       " 58,\n",
       " 33,\n",
       " 58,\n",
       " 33,\n",
       " 33,\n",
       " 73,\n",
       " 2,\n",
       " 33,\n",
       " 86,\n",
       " 6,\n",
       " 86,\n",
       " 53,\n",
       " 5,\n",
       " 41,\n",
       " 5,\n",
       " 63,\n",
       " 67,\n",
       " 63,\n",
       " 41,\n",
       " 67,\n",
       " 63,\n",
       " 67,\n",
       " 82,\n",
       " 51,\n",
       " 73,\n",
       " 51,\n",
       " 73,\n",
       " 53,\n",
       " 58,\n",
       " 33,\n",
       " 53,\n",
       " 52,\n",
       " 34,\n",
       " 52,\n",
       " 68,\n",
       " 34,\n",
       " 68,\n",
       " 0,\n",
       " 0,\n",
       " 0,\n",
       " 2,\n",
       " 2,\n",
       " 22,\n",
       " 22,\n",
       " 22,\n",
       " 82,\n",
       " 57,\n",
       " 57,\n",
       " 73,\n",
       " 85,\n",
       " 61,\n",
       " 57,\n",
       " 73,\n",
       " 74,\n",
       " 74,\n",
       " 8,\n",
       " 59,\n",
       " 48,\n",
       " 8,\n",
       " 8,\n",
       " 59,\n",
       " 22,\n",
       " 26,\n",
       " 26,\n",
       " 26,\n",
       " 40,\n",
       " 50,\n",
       " 84,\n",
       " 50,\n",
       " 54,\n",
       " 40,\n",
       " 54,\n",
       " 50,\n",
       " 40,\n",
       " 84,\n",
       " 37,\n",
       " 37,\n",
       " 39,\n",
       " 39,\n",
       " 39,\n",
       " 37,\n",
       " 26,\n",
       " 37,\n",
       " 39,\n",
       " 37,\n",
       " 39,\n",
       " 21,\n",
       " 30,\n",
       " 39,\n",
       " 26,\n",
       " 30,\n",
       " 26,\n",
       " 21,\n",
       " 26,\n",
       " 52,\n",
       " 44,\n",
       " 44,\n",
       " 45,\n",
       " 44,\n",
       " 81,\n",
       " 41,\n",
       " 63,\n",
       " 57,\n",
       " 57,\n",
       " 66,\n",
       " 57,\n",
       " 85,\n",
       " 57,\n",
       " 34,\n",
       " 57,\n",
       " 51,\n",
       " 21,\n",
       " 21,\n",
       " 51,\n",
       " 88,\n",
       " 72,\n",
       " 44,\n",
       " 63,\n",
       " 51,\n",
       " 41,\n",
       " 72,\n",
       " 51,\n",
       " 63,\n",
       " 72,\n",
       " 82,\n",
       " 33,\n",
       " 33,\n",
       " 82,\n",
       " 82,\n",
       " 33,\n",
       " 82,\n",
       " 24,\n",
       " 74,\n",
       " 74,\n",
       " 9,\n",
       " 14,\n",
       " 50,\n",
       " 83,\n",
       " 50,\n",
       " 9,\n",
       " 14,\n",
       " 50,\n",
       " 14,\n",
       " 9,\n",
       " 50,\n",
       " 83,\n",
       " 14,\n",
       " 14,\n",
       " 9,\n",
       " 64,\n",
       " 42,\n",
       " 64,\n",
       " 3,\n",
       " 64,\n",
       " 20,\n",
       " 3,\n",
       " 20,\n",
       " 3,\n",
       " 20,\n",
       " 3,\n",
       " 53,\n",
       " 53,\n",
       " 75,\n",
       " 6,\n",
       " 0,\n",
       " 0,\n",
       " 68,\n",
       " 34,\n",
       " 6,\n",
       " 52,\n",
       " 33,\n",
       " 68,\n",
       " 88,\n",
       " 34,\n",
       " 6,\n",
       " 73,\n",
       " 88,\n",
       " 51,\n",
       " 85,\n",
       " 72,\n",
       " 88,\n",
       " 44,\n",
       " 85,\n",
       " 88,\n",
       " 1,\n",
       " 12,\n",
       " 60,\n",
       " 44,\n",
       " 16,\n",
       " 1,\n",
       " 1,\n",
       " 56,\n",
       " 34,\n",
       " 1,\n",
       " 48,\n",
       " 75,\n",
       " 60,\n",
       " 48,\n",
       " 56,\n",
       " 51,\n",
       " 1,\n",
       " 51,\n",
       " 34,\n",
       " 75,\n",
       " 34,\n",
       " 56,\n",
       " 75,\n",
       " 63,\n",
       " 52,\n",
       " 56,\n",
       " 63,\n",
       " 63,\n",
       " 13,\n",
       " 29,\n",
       " 29,\n",
       " 20,\n",
       " 72,\n",
       " 34,\n",
       " 52,\n",
       " 13,\n",
       " 56,\n",
       " 57,\n",
       " 39,\n",
       " 52,\n",
       " 68,\n",
       " 82,\n",
       " 20,\n",
       " 57,\n",
       " 14,\n",
       " 72,\n",
       " 56,\n",
       " 68,\n",
       " 82,\n",
       " 34,\n",
       " 40,\n",
       " 14,\n",
       " 50,\n",
       " 52,\n",
       " 39,\n",
       " 50,\n",
       " 56,\n",
       " 40,\n",
       " 14,\n",
       " 31,\n",
       " 57,\n",
       " 82,\n",
       " 31,\n",
       " 68,\n",
       " 57,\n",
       " 34,\n",
       " 50,\n",
       " 74,\n",
       " 56,\n",
       " 34,\n",
       " 62,\n",
       " 52,\n",
       " 74,\n",
       " 74,\n",
       " 50,\n",
       " 2,\n",
       " 57,\n",
       " 31,\n",
       " 62,\n",
       " 39,\n",
       " 52,\n",
       " 74,\n",
       " 82,\n",
       " 52,\n",
       " 50,\n",
       " 2,\n",
       " 68,\n",
       " 56,\n",
       " 68,\n",
       " 22,\n",
       " 2,\n",
       " 52,\n",
       " 57,\n",
       " 34,\n",
       " 52,\n",
       " 53,\n",
       " 6,\n",
       " 53,\n",
       " 2,\n",
       " 43,\n",
       " 43,\n",
       " 43,\n",
       " 43,\n",
       " 33,\n",
       " 22,\n",
       " 2,\n",
       " 43,\n",
       " 49,\n",
       " 33,\n",
       " 86,\n",
       " 0,\n",
       " 0,\n",
       " 51,\n",
       " 51,\n",
       " 33,\n",
       " 45,\n",
       " 86,\n",
       " 51,\n",
       " 33,\n",
       " 33,\n",
       " 33,\n",
       " 34,\n",
       " 86,\n",
       " 33,\n",
       " 58,\n",
       " 58,\n",
       " 33,\n",
       " 33,\n",
       " 63,\n",
       " 73,\n",
       " 63,\n",
       " 22,\n",
       " 84,\n",
       " 22,\n",
       " 44,\n",
       " 44,\n",
       " 2,\n",
       " 82,\n",
       " 63,\n",
       " 41,\n",
       " 56,\n",
       " 44,\n",
       " 73,\n",
       " 67,\n",
       " 63,\n",
       " 44,\n",
       " 5,\n",
       " 82,\n",
       " 56,\n",
       " 82,\n",
       " 5,\n",
       " 41,\n",
       " 44,\n",
       " 41,\n",
       " 82,\n",
       " 2,\n",
       " 82,\n",
       " 72,\n",
       " 44,\n",
       " 31,\n",
       " 44,\n",
       " 72,\n",
       " 31,\n",
       " 51,\n",
       " 72,\n",
       " 86,\n",
       " 31,\n",
       " 0,\n",
       " 86,\n",
       " 0,\n",
       " 74,\n",
       " 26,\n",
       " 6,\n",
       " 6,\n",
       " 30,\n",
       " 42,\n",
       " 20,\n",
       " 7,\n",
       " 7,\n",
       " 7,\n",
       " 7,\n",
       " 22,\n",
       " 58,\n",
       " 22,\n",
       " 22,\n",
       " 2,\n",
       " 46,\n",
       " 46,\n",
       " 13,\n",
       " 64,\n",
       " 64,\n",
       " 64,\n",
       " 58,\n",
       " 58,\n",
       " 58,\n",
       " 53,\n",
       " 22,\n",
       " 53,\n",
       " 22,\n",
       " 22,\n",
       " 33,\n",
       " 33,\n",
       " 2,\n",
       " 53,\n",
       " 53,\n",
       " 58,\n",
       " 56,\n",
       " 68,\n",
       " 34,\n",
       " 75,\n",
       " 68,\n",
       " 6,\n",
       " 50,\n",
       " 75,\n",
       " 6,\n",
       " 68,\n",
       " 50,\n",
       " 75,\n",
       " 2,\n",
       " 22,\n",
       " 76,\n",
       " 58,\n",
       " 0,\n",
       " 73,\n",
       " 58,\n",
       " 22,\n",
       " 50,\n",
       " 2,\n",
       " 86,\n",
       " 58,\n",
       " 73,\n",
       " 22,\n",
       " 0,\n",
       " 53,\n",
       " 22,\n",
       " 73,\n",
       " 58,\n",
       " 53,\n",
       " 33,\n",
       " 2,\n",
       " 75,\n",
       " 53,\n",
       " 33,\n",
       " 2,\n",
       " 73,\n",
       " 53,\n",
       " 58,\n",
       " 33,\n",
       " 53,\n",
       " 2,\n",
       " 2,\n",
       " 58,\n",
       " 73,\n",
       " 58,\n",
       " 53,\n",
       " 53,\n",
       " 2,\n",
       " 86,\n",
       " 2,\n",
       " 75,\n",
       " 53,\n",
       " 86,\n",
       " 22,\n",
       " 33,\n",
       " 22,\n",
       " 0,\n",
       " 33,\n",
       " 0,\n",
       " 0,\n",
       " 33,\n",
       " 53,\n",
       " 53,\n",
       " 53,\n",
       " 50,\n",
       " 50,\n",
       " 50,\n",
       " 58,\n",
       " 73,\n",
       " 58,\n",
       " 58,\n",
       " 51,\n",
       " 52,\n",
       " 51,\n",
       " 52,\n",
       " 58,\n",
       " 51,\n",
       " 88,\n",
       " 51,\n",
       " 58,\n",
       " 20,\n",
       " 3,\n",
       " 3,\n",
       " 42,\n",
       " 42,\n",
       " 3,\n",
       " 22,\n",
       " 13,\n",
       " 64,\n",
       " 22,\n",
       " 29,\n",
       " 64,\n",
       " 64,\n",
       " 13,\n",
       " 64,\n",
       " 22,\n",
       " 86,\n",
       " 64,\n",
       " 73,\n",
       " 73,\n",
       " 86,\n",
       " 73,\n",
       " 46,\n",
       " 7,\n",
       " 7,\n",
       " 86,\n",
       " 7,\n",
       " 86,\n",
       " 86,\n",
       " 2,\n",
       " 58,\n",
       " 86,\n",
       " 22,\n",
       " 73,\n",
       " 22,\n",
       " 6,\n",
       " 73,\n",
       " 88,\n",
       " 7,\n",
       " 7,\n",
       " 73,\n",
       " 3,\n",
       " 6,\n",
       " 33,\n",
       " 75,\n",
       " 75,\n",
       " 58,\n",
       " 6,\n",
       " 6,\n",
       " 26,\n",
       " 25,\n",
       " 26,\n",
       " 6,\n",
       " 26,\n",
       " 2,\n",
       " 55,\n",
       " 55,\n",
       " 26,\n",
       " 6,\n",
       " 21,\n",
       " 78,\n",
       " 21,\n",
       " 65,\n",
       " 27,\n",
       " 62,\n",
       " 65,\n",
       " 46,\n",
       " 24,\n",
       " 62,\n",
       " 27,\n",
       " 24,\n",
       " 46,\n",
       " 78,\n",
       " 62,\n",
       " 78,\n",
       " 62,\n",
       " 88,\n",
       " 34,\n",
       " 6,\n",
       " 34,\n",
       " 42,\n",
       " 32,\n",
       " 42,\n",
       " 34,\n",
       " 64,\n",
       " 46,\n",
       " 6,\n",
       " 64,\n",
       " 20,\n",
       " 42,\n",
       " 64,\n",
       " 88,\n",
       " 64,\n",
       " 53,\n",
       " 32,\n",
       " 6,\n",
       " 26,\n",
       " 53,\n",
       " 40,\n",
       " 73,\n",
       " 40,\n",
       " 74,\n",
       " 84,\n",
       " 74,\n",
       " 73,\n",
       " 84,\n",
       " 40,\n",
       " 73,\n",
       " 84,\n",
       " 84,\n",
       " 68,\n",
       " 54,\n",
       " 84,\n",
       " 88,\n",
       " 88,\n",
       " 50,\n",
       " 19,\n",
       " 19,\n",
       " 35,\n",
       " 35,\n",
       " 34,\n",
       " 35,\n",
       " 19,\n",
       " 82,\n",
       " 19,\n",
       " 68,\n",
       " 35,\n",
       " 50,\n",
       " 82,\n",
       " 50,\n",
       " 39,\n",
       " 37,\n",
       " 27,\n",
       " 77,\n",
       " 26,\n",
       " 27,\n",
       " 84,\n",
       " 39,\n",
       " 70,\n",
       " 43,\n",
       " 39,\n",
       " 56,\n",
       " 27,\n",
       " 84,\n",
       " 26,\n",
       " 68,\n",
       " 34,\n",
       " 75,\n",
       " 27,\n",
       " 84,\n",
       " 37,\n",
       " 71,\n",
       " 68,\n",
       " 65,\n",
       " 84,\n",
       " 39,\n",
       " 6,\n",
       " 43,\n",
       " 27,\n",
       " 39,\n",
       " 54,\n",
       " 50,\n",
       " 70,\n",
       " 65,\n",
       " 26,\n",
       " 75,\n",
       " 84,\n",
       " 37,\n",
       " 6,\n",
       " 46,\n",
       " 54,\n",
       " 39,\n",
       " 68,\n",
       " 65,\n",
       " 43,\n",
       " 79,\n",
       " 50,\n",
       " 43,\n",
       " 84,\n",
       " 79,\n",
       " 75,\n",
       " 28,\n",
       " 5,\n",
       " 54,\n",
       " 79,\n",
       " 2,\n",
       " 67,\n",
       " 46,\n",
       " 22,\n",
       " 41,\n",
       " 13,\n",
       " 75,\n",
       " 63,\n",
       " 46,\n",
       " 54,\n",
       " 58,\n",
       " 67,\n",
       " 0,\n",
       " 54,\n",
       " 73,\n",
       " 58,\n",
       " 5,\n",
       " 22,\n",
       " 63,\n",
       " 50,\n",
       " 41,\n",
       " 2,\n",
       " 5,\n",
       " 86,\n",
       " 63,\n",
       " 58,\n",
       " 73,\n",
       " 22,\n",
       " 0,\n",
       " 53,\n",
       " 22,\n",
       " 11,\n",
       " 73,\n",
       " 80,\n",
       " 58,\n",
       " 49,\n",
       " 53,\n",
       " 80,\n",
       " 33,\n",
       " 2,\n",
       " ...]"
      ]
     },
     "execution_count": 36,
     "metadata": {},
     "output_type": "execute_result"
    }
   ],
   "source": [
    "from collections import Counter\n",
    "class_list=[]\n",
    "for i in class_value:\n",
    "    class_list.append(i)\n",
    "#z=Counter(class_value)\n",
    "class_list"
   ]
  },
  {
   "cell_type": "code",
   "execution_count": 37,
   "id": "a5d32b61",
   "metadata": {},
   "outputs": [],
   "source": [
    "z=Counter(class_value)"
   ]
  },
  {
   "cell_type": "code",
   "execution_count": 38,
   "id": "1e1a2171",
   "metadata": {},
   "outputs": [
    {
     "name": "stdout",
     "output_type": "stream",
     "text": [
      "Counter({33: 96, 58: 85, 2: 64, 53: 62, 73: 60, 22: 60, 75: 54, 86: 49, 0: 43, 34: 35, 6: 34, 51: 32, 50: 29, 84: 28, 52: 27, 82: 27, 88: 25, 68: 23, 44: 23, 26: 21, 64: 21, 39: 20, 3: 20, 56: 18, 57: 18, 20: 18, 74: 17, 63: 16, 40: 16, 14: 16, 7: 16, 46: 16, 41: 15, 31: 13, 37: 13, 13: 13, 21: 12, 72: 11, 42: 11, 80: 11, 5: 10, 24: 10, 83: 10, 43: 10, 85: 9, 30: 9, 62: 9, 54: 8, 9: 8, 49: 8, 27: 8, 35: 8, 1: 7, 67: 6, 55: 6, 78: 6, 32: 6, 19: 6, 79: 6, 65: 5, 11: 5, 15: 5, 8: 4, 45: 4, 25: 4, 10: 4, 69: 4, 59: 3, 48: 3, 29: 3, 71: 3, 28: 3, 23: 3, 17: 3, 47: 2, 66: 2, 60: 2, 70: 2, 4: 2, 18: 2, 87: 1, 61: 1, 81: 1, 12: 1, 16: 1, 76: 1, 77: 1, 36: 1, 38: 1})\n"
     ]
    }
   ],
   "source": [
    "print(z)"
   ]
  },
  {
   "cell_type": "code",
   "execution_count": 39,
   "id": "d52079d5",
   "metadata": {},
   "outputs": [],
   "source": [
    "from imblearn.over_sampling import SMOTE\n",
    "over = SMOTE(sampling_strategy=z)\n",
    "# #now upper np.array"
   ]
  },
  {
   "cell_type": "code",
   "execution_count": 40,
   "id": "d69f6f9c",
   "metadata": {},
   "outputs": [],
   "source": [
    "ex1=np.array(ex1)"
   ]
  },
  {
   "cell_type": "code",
   "execution_count": 41,
   "id": "e925a617",
   "metadata": {},
   "outputs": [
    {
     "name": "stdout",
     "output_type": "stream",
     "text": [
      "(1415,)\n"
     ]
    }
   ],
   "source": [
    "class_value=list(class_value)\n",
    "class_value=np.array(class_value)\n",
    "print(class_value.shape)"
   ]
  },
  {
   "cell_type": "code",
   "execution_count": 42,
   "id": "e663902f",
   "metadata": {},
   "outputs": [],
   "source": [
    "\n",
    "class_value=class_value.reshape(-1,1)"
   ]
  },
  {
   "cell_type": "code",
   "execution_count": 43,
   "id": "c87fbb80",
   "metadata": {},
   "outputs": [
    {
     "name": "stdout",
     "output_type": "stream",
     "text": [
      "(1415, 2)\n",
      "(1415, 1)\n"
     ]
    }
   ],
   "source": [
    "print(ex1.shape)\n",
    "print(class_value.shape)\n"
   ]
  },
  {
   "cell_type": "code",
   "execution_count": 44,
   "id": "fe6da92e",
   "metadata": {},
   "outputs": [],
   "source": [
    "# from collections import Counter\n",
    "# class_list=[]\n",
    "# for i in class_value:\n",
    "#     class_list.append(i)\n",
    "# #z=Counter(class_value)\n",
    "# class_list\n",
    "#over fit sampling"
   ]
  },
  {
   "cell_type": "code",
   "execution_count": 45,
   "id": "ba3edbc1",
   "metadata": {},
   "outputs": [],
   "source": [
    "# z=Counter(class_value)"
   ]
  },
  {
   "cell_type": "code",
   "execution_count": 46,
   "id": "7172f6e7",
   "metadata": {},
   "outputs": [],
   "source": [
    "# print(z)"
   ]
  },
  {
   "cell_type": "code",
   "execution_count": 47,
   "id": "e509a6ad",
   "metadata": {},
   "outputs": [],
   "source": [
    "# strategy = {0:100, 1:100, 2:200, 3:200, 4:200, 5:200}"
   ]
  },
  {
   "cell_type": "code",
   "execution_count": 48,
   "id": "9dc3a084",
   "metadata": {},
   "outputs": [],
   "source": [
    "# from imblearn.over_sampling import SMOTE\n",
    "# over = SMOTE(sampling_strategy=z)\n",
    "# #now upper np.array\n"
   ]
  },
  {
   "cell_type": "code",
   "execution_count": 49,
   "id": "9714d57e",
   "metadata": {},
   "outputs": [],
   "source": [
    "X, y = over.fit_resample(ex1, class_value)"
   ]
  },
  {
   "cell_type": "code",
   "execution_count": 50,
   "id": "aa6421a7",
   "metadata": {},
   "outputs": [
    {
     "name": "stdout",
     "output_type": "stream",
     "text": [
      "(1415, 1)\n"
     ]
    }
   ],
   "source": [
    "y=np.array(y)\n",
    "y=y.reshape(-1,1)\n",
    "print(y.shape)"
   ]
  },
  {
   "cell_type": "code",
   "execution_count": 51,
   "id": "425ec0f1",
   "metadata": {},
   "outputs": [],
   "source": [
    "# from sklearn.preprocessing import StandardScaler    \n",
    "# st_x= StandardScaler()   \n",
    "# ex1=st_x.fit_transform(ex1)    \n",
    "# ex1 "
   ]
  },
  {
   "cell_type": "code",
   "execution_count": 52,
   "id": "da96b75d",
   "metadata": {},
   "outputs": [],
   "source": [
    "# class_value=class_value.reshape(-1,1)\n",
    "# class_value=st_x.fit_transform(class_value)\n",
    "# class_value.shape"
   ]
  },
  {
   "cell_type": "code",
   "execution_count": null,
   "id": "ecf311ca",
   "metadata": {},
   "outputs": [],
   "source": []
  },
  {
   "cell_type": "code",
   "execution_count": 53,
   "id": "37af68bd",
   "metadata": {},
   "outputs": [],
   "source": [
    "X_train, X_test, y_train, y_test = train_test_split(X,y ,test_size=0.20, random_state=12345)\n",
    "#X_train, X_test, y_train, y_test = train_test_split(ex1,class_value ,test_size=0.20, random_state=12345)"
   ]
  },
  {
   "cell_type": "code",
   "execution_count": 54,
   "id": "0b4ffe14",
   "metadata": {},
   "outputs": [
    {
     "data": {
      "text/plain": [
       "(1132, 1)"
      ]
     },
     "execution_count": 54,
     "metadata": {},
     "output_type": "execute_result"
    }
   ],
   "source": [
    "y_train.shape"
   ]
  },
  {
   "cell_type": "code",
   "execution_count": 55,
   "id": "5567caf5",
   "metadata": {},
   "outputs": [
    {
     "data": {
      "text/plain": [
       "array([[ 2],\n",
       "       [50],\n",
       "       [86],\n",
       "       ...,\n",
       "       [53],\n",
       "       [88],\n",
       "       [88]])"
      ]
     },
     "execution_count": 55,
     "metadata": {},
     "output_type": "execute_result"
    }
   ],
   "source": [
    "y_train"
   ]
  },
  {
   "cell_type": "code",
   "execution_count": 56,
   "id": "455a21ea",
   "metadata": {},
   "outputs": [
    {
     "name": "stdout",
     "output_type": "stream",
     "text": [
      "[[86, 93, 43], [50, 59, 7], [70, 73, 64], [2, 95, 20], [7, 93, 2], [25, 95, 10], [50, 81, 34], [2, 25, 16], [41, 64, 4], [63, 81, 8], [86, 7, 4], [41, 59, 5], [2, 7, 1], [86, 25, 13], [70, 81, 16], [25, 59, 5], [2, 64, 1], [7, 81, 3], [86, 59, 2], [25, 37, 6], [2, 81, 18], [7, 64, 12], [86, 37, 60], [63, 64, 3], [2, 37, 10], [41, 64, 4], [25, 58, 21], [63, 73, 8], [2, 93, 3], [7, 37, 3], [81, 79, 9], [25, 64, 13], [7, 39, 6], [2, 81, 96], [62, 64, 35], [63, 79, 8], [88, 93, 1], [41, 39, 13], [44, 59, 1], [27, 79, 20], [70, 81, 16], [42, 93, 15], [86, 93, 11], [63, 64, 10], [44, 81, 23], [25, 37, 4], [44, 64, 16], [27, 93, 2], [63, 81, 3], [41, 79, 8], [70, 79, 29], [88, 93, 32], [70, 81, 27], [64, 81, 62], [96, 39, 8], [0, 37, 6], [7, 64, 18], [41, 79, 18], [2, 64, 85], [88, 95, 3], [96, 25, 2], [63, 95, 1], [2, 7, 9], [0, 79, 16], [25, 64, 21], [63, 79, 5], [2, 37, 2], [96, 81, 6], [63, 64, 23], [25, 79, 4], [96, 37, 2], [2, 81, 3], [70, 79, 11], [25, 59, 60], [41, 81, 17], [96, 3, 54], [25, 81, 1], [2, 64, 1], [2, 25, 6], [88, 95, 6], [2, 39, 11], [41, 1, 1], [86, 95, 27], [7, 59, 10], [25, 1, 28], [88, 79, 9], [2, 93, 49], [63, 64, 1], [25, 37, 25], [7, 64, 0], [88, 59, 0], [25, 93, 0], [70, 79, 0], [2, 37, 0], [25, 59, 0], [88, 93, 0], [2, 79, 0], [70, 37, 0], [96, 59, 0], [88, 25, 0], [2, 64, 0], [42, 79, 0], [88, 64, 0], [2, 93, 0], [88, 93, 0], [7, 1, 0], [38, 56, 0], [44, 95, 0], [62, 90, 0], [0, 35, 0], [7, 56, 0], [62, 95, 0], [44, 90, 0], [0, 54, 0], [7, 35, 0], [97, 90, 0], [44, 58, 0], [41, 64, 0], [86, 81, 0], [25, 59, 0], [2, 64, 0], [41, 93, 0], [63, 79, 0], [62, 81, 0], [7, 93, 0], [62, 79, 0], [25, 81, 0], [2, 93, 0], [7, 37, 0], [62, 59, 0], [25, 79, 0], [7, 64, 0], [2, 37, 0], [25, 58, 0], [65, 81, 0], [7, 3, 0], [70, 93, 0], [88, 93, 0], [41, 79, 0], [41, 81, 0], [38, 95, 0], [0, 73, 0], [7, 58, 0], [44, 62, 0], [81, 95, 0], [0, 35, 0], [0, 95, 0], [38, 73, 0], [44, 58, 0], [7, 62, 0], [41, 59, 0], [70, 7, 0], [25, 93, 0], [88, 1, 0], [2, 59, 0], [25, 79, 0], [41, 64, 0], [86, 1, 0], [88, 93, 0], [2, 7, 0], [63, 64, 0], [25, 1, 0], [41, 7, 0], [2, 64, 0], [86, 93, 0], [63, 7, 0], [25, 81, 0], [96, 1, 0], [41, 3, 0], [86, 81, 0], [25, 59, 0], [96, 37, 0], [25, 93, 0], [63, 7, 0], [63, 7, 0], [63, 7, 0], [38, 73, 0], [0, 39, 0], [62, 62, 0], [38, 62, 0], [92, 1, 0], [62, 73, 0], [92, 39, 0], [38, 58, 0], [68, 73, 0], [0, 62, 0], [44, 73, 0], [0, 39, 0], [86, 81, 0], [86, 81, 0], [86, 81, 0], [41, 25, 0], [41, 25, 0], [41, 25, 0], [63, 79, 0], [2, 81, 0], [2, 81, 0], [2, 81, 0], [0, 39, 0], [0, 39, 0], [0, 39, 0], [96, 64, 0], [96, 64, 0], [96, 64, 0], [96, 64, 0], [88, 7, 0], [88, 7, 0], [92, 63, 0], [92, 63, 0], [92, 63, 0], [96, 1, 0], [96, 1, 0], [96, 1, 0], [25, 79, 0], [25, 79, 0], [25, 79, 0], [96, 37, 0], [88, 37, 0], [70, 94, 0], [70, 94, 0], [70, 94, 0], [25, 93, 0], [41, 3, 0], [41, 3, 0], [70, 81, 0], [86, 7, 0], [70, 81, 0], [86, 7, 0], [70, 81, 0], [41, 59, 0], [41, 59, 0], [41, 59, 0], [41, 81, 0], [41, 81, 0], [41, 81, 0], [63, 93, 0], [63, 93, 0], [63, 64, 0], [63, 64, 0], [63, 64, 0], [2, 59, 0], [0, 95, 0], [0, 95, 0], [2, 25, 0], [2, 25, 0], [63, 25, 0], [7, 81, 0], [63, 3, 0], [63, 25, 0], [7, 81, 0], [86, 37, 0], [63, 3, 0], [86, 37, 0], [86, 37, 0], [88, 37, 0], [7, 37, 0], [88, 7, 0], [88, 37, 0], [7, 37, 0], [88, 7, 0], [7, 37, 0], [70, 93, 0], [70, 93, 0], [70, 93, 0], [40, 93, 0], [0, 7, 0], [0, 7, 0], [0, 7, 0], [62, 39, 0], [81, 64, 0], [62, 39, 0], [81, 64, 0], [44, 73, 0], [62, 73, 0], [62, 73, 0], [44, 37, 0], [25, 3, 0], [44, 37, 0], [97, 64, 0], [2, 64, 0], [97, 3, 0], [25, 37, 0], [97, 64, 0], [2, 64, 0], [97, 3, 0], [25, 37, 0], [2, 64, 0], [25, 37, 0], [96, 7, 0], [7, 93, 0], [7, 93, 0], [88, 79, 0], [44, 1, 0], [44, 1, 0], [86, 95, 0], [86, 95, 0], [92, 3, 0], [2, 64, 0], [2, 64, 0], [88, 25, 0], [2, 64, 0], [63, 64, 0], [63, 64, 0], [41, 93, 0], [63, 64, 0], [41, 93, 0], [41, 93, 0], [2, 79, 0], [2, 37, 0], [2, 37, 0], [7, 93, 0], [7, 93, 0], [7, 93, 0], [63, 81, 0], [6, 72, 0], [51, 50, 0], [6, 50, 0], [76, 72, 0], [56, 72, 0], [56, 69, 0], [6, 45, 0], [51, 72, 0], [6, 69, 0], [76, 72, 0], [92, 56, 0], [92, 56, 0], [86, 64, 0], [92, 56, 0], [86, 64, 0], [63, 37, 0], [86, 64, 0], [63, 37, 0], [63, 37, 0], [62, 73, 0], [68, 39, 0], [68, 58, 0], [44, 73, 0], [44, 58, 0], [68, 73, 0], [0, 39, 0], [0, 39, 0], [0, 39, 0], [41, 3, 0], [41, 3, 0], [96, 25, 0], [96, 25, 0], [96, 25, 0], [92, 89, 0], [69, 67, 0], [69, 92, 0], [86, 81, 0], [74, 92, 0], [74, 92, 0], [69, 92, 0], [86, 81, 0], [87, 51, 0], [87, 51, 0], [58, 9, 0], [20, 65, 0], [58, 20, 0], [9, 65, 0], [9, 20, 0], [58, 65, 0], [25, 64, 0], [8, 30, 0], [8, 30, 0], [8, 30, 0], [50, 60, 0], [34, 55, 0], [94, 12, 0], [94, 55, 0], [12, 60, 0], [34, 44, 0], [34, 60, 0], [12, 55, 0], [94, 44, 0], [94, 31, 0], [33, 42, 0], [33, 42, 0], [37, 43, 0], [37, 43, 0], [37, 43, 0], [47, 61, 0], [37, 30, 0], [33, 42, 0], [24, 43, 0], [37, 42, 0], [49, 61, 0], [24, 61, 0], [37, 61, 0], [47, 43, 0], [24, 30, 0], [37, 24, 0], [33, 61, 0], [24, 42, 0], [33, 43, 0], [62, 95, 0], [55, 86, 0], [55, 50, 0], [56, 86, 0], [55, 86, 0], [56, 86, 0], [76, 45, 0], [76, 45, 0], [79, 63, 0], [69, 92, 0], [79, 92, 0], [79, 63, 0], [79, 92, 0], [69, 92, 0], [44, 95, 0], [69, 92, 0], [55, 56, 0], [24, 28, 0], [24, 28, 0], [55, 56, 0], [44, 95, 0], [85, 69, 0], [51, 49, 0], [61, 69, 0], [55, 56, 0], [51, 69, 0], [85, 49, 0], [51, 56, 0], [55, 69, 0], [85, 56, 0], [62, 88, 0], [41, 93, 0], [41, 93, 0], [62, 88, 0], [62, 88, 0], [96, 37, 0], [62, 88, 0], [31, 80, 0], [31, 80, 0], [31, 80, 0], [10, 89, 0], [16, 17, 0], [60, 12, 0], [17, 89, 0], [60, 12, 0], [10, 17, 0], [16, 89, 0], [60, 12, 0], [16, 17, 0], [10, 89, 0], [60, 12, 0], [17, 89, 0], [10, 16, 0], [16, 89, 0], [10, 17, 0], [77, 4, 0], [53, 87, 0], [77, 87, 0], [4, 23, 0], [77, 47, 0], [23, 87, 0], [4, 47, 0], [77, 23, 0], [4, 87, 0], [23, 47, 0], [4, 23, 0], [88, 59, 0], [88, 59, 0], [88, 59, 0], [7, 95, 0], [0, 95, 0], [7, 1, 0], [62, 73, 0], [44, 73, 0], [7, 95, 0], [44, 58, 0], [41, 79, 0], [62, 73, 0], [0, 95, 0], [44, 73, 0], [7, 1, 0], [41, 79, 0], [61, 95, 0], [85, 56, 0], [55, 92, 0], [85, 95, 0], [61, 95, 0], [55, 92, 0], [55, 92, 0], [85, 95, 0], [1, 52, 0], [13, 18, 0], [73, 13, 0], [55, 92, 0], [18, 52, 0], [73, 2, 0], [1, 13, 0], [68, 35, 0], [44, 58, 0], [1, 18, 0], [73, 52, 0], [70, 81, 0], [73, 18, 0], [13, 52, 0], [68, 39, 0], [38, 56, 0], [1, 52, 0], [61, 58, 0], [38, 39, 0], [70, 81, 0], [44, 56, 0], [68, 58, 0], [70, 81, 0], [76, 43, 0], [38, 58, 0], [68, 56, 0], [76, 43, 0], [76, 43, 0], [14, 74, 0], [36, 74, 0], [36, 14, 0], [57, 23, 0], [81, 77, 0], [38, 39, 0], [50, 58, 0], [36, 14, 0], [92, 62, 0], [10, 63, 0], [49, 60, 0], [60, 58, 0], [50, 73, 0], [92, 39, 0], [57, 23, 0], [60, 63, 0], [16, 43, 0], [10, 77, 0], [38, 62, 0], [69, 73, 0], [92, 35, 0], [44, 62, 0], [10, 44, 0], [16, 60, 0], [60, 73, 0], [62, 77, 0], [92, 43, 0], [10, 55, 0], [66, 62, 0], [50, 77, 0], [16, 39, 0], [38, 43, 0], [62, 63, 0], [92, 60, 0], [16, 35, 0], [10, 73, 0], [69, 77, 0], [44, 43, 0], [50, 55, 0], [87, 68, 0], [16, 62, 0], [44, 60, 0], [35, 68, 0], [10, 58, 0], [87, 32, 0], [87, 68, 0], [60, 77, 0], [2, 81, 0], [50, 63, 0], [38, 60, 0], [35, 68, 0], [49, 62, 0], [62, 73, 0], [87, 32, 0], [92, 16, 0], [92, 58, 0], [60, 62, 0], [2, 81, 0], [92, 73, 0], [38, 62, 0], [68, 73, 0], [63, 25, 0], [2, 81, 0], [44, 58, 0], [60, 63, 0], [44, 55, 0], [62, 63, 0], [63, 25, 0], [41, 7, 0], [63, 25, 0], [2, 64, 0], [54, 53, 0], [54, 53, 0], [54, 53, 0], [54, 53, 0], [41, 7, 0], [63, 25, 0], [2, 64, 0], [54, 53, 0], [54, 53, 0], [41, 7, 0], [0, 93, 0], [0, 93, 0], [0, 93, 0], [61, 11, 0], [61, 50, 0], [41, 93, 0], [11, 50, 0], [41, 93, 0], [61, 50, 0], [41, 93, 0], [41, 81, 0], [41, 81, 0], [96, 39, 0], [96, 39, 0], [63, 37, 0], [70, 7, 0], [70, 7, 0], [63, 37, 0], [63, 37, 0], [76, 91, 0], [86, 25, 0], [76, 91, 0], [86, 25, 0], [76, 91, 0], [86, 25, 0], [55, 35, 0], [55, 35, 0], [86, 3, 0], [43, 88, 0], [56, 69, 0], [51, 72, 0], [68, 6, 0], [55, 35, 0], [86, 3, 0], [43, 72, 0], [68, 69, 0], [55, 35, 0], [6, 50, 0], [51, 88, 0], [68, 50, 0], [80, 88, 0], [6, 69, 0], [43, 45, 0], [55, 35, 0], [6, 45, 0], [76, 88, 0], [86, 3, 0], [51, 88, 0], [91, 77, 0], [55, 56, 0], [38, 56, 0], [91, 49, 0], [55, 77, 0], [91, 35, 0], [91, 56, 0], [38, 77, 0], [88, 93, 0], [38, 49, 0], [0, 39, 0], [88, 93, 0], [0, 39, 0], [87, 30, 0], [87, 30, 0], [7, 95, 0], [7, 95, 0], [37, 40, 0], [53, 23, 0], [53, 23, 0], [53, 8, 0], [8, 23, 0], [8, 23, 0], [53, 8, 0], [25, 64, 0], [25, 64, 0], [25, 3, 0], [25, 3, 0], [25, 3, 0], [14, 51, 0], [14, 51, 0], [77, 14, 0], [77, 14, 0], [77, 14, 0], [77, 14, 0], [70, 95, 0], [70, 95, 0], [70, 95, 0], [63, 93, 0], [86, 25, 0], [63, 93, 0], [86, 25, 0], [86, 25, 0], [2, 37, 0], [2, 37, 0], [2, 37, 0], [63, 64, 0], [63, 64, 0], [63, 64, 0], [68, 66, 0], [7, 73, 0], [44, 57, 0], [88, 55, 0], [81, 66, 0], [68, 7, 0], [60, 58, 0], [88, 39, 0], [7, 66, 0], [68, 73, 0], [60, 39, 0], [88, 58, 0], [2, 79, 0], [25, 93, 0], [88, 7, 0], [41, 64, 0], [0, 73, 0], [86, 93, 0], [71, 59, 0], [25, 7, 0], [81, 55, 0], [3, 81, 0], [96, 7, 0], [0, 64, 0], [86, 81, 0], [25, 3, 0], [0, 0, 0], [41, 59, 0], [26, 81, 0], [86, 7, 0], [70, 55, 0], [63, 73, 0], [41, 1, 0], [2, 7, 0], [96, 81, 0], [63, 55, 0], [41, 73, 0], [3, 93, 0], [26, 79, 0], [63, 1, 0], [70, 73, 0], [41, 55, 0], [25, 59, 0], [70, 3, 0], [63, 3, 0], [70, 79, 0], [70, 79, 0], [70, 79, 0], [63, 3, 0], [63, 3, 0], [63, 3, 0], [96, 81, 0], [63, 3, 0], [96, 81, 0], [63, 3, 0], [96, 81, 0], [41, 25, 0], [41, 25, 0], [41, 25, 0], [0, 95, 0], [41, 25, 0], [0, 95, 0], [0, 95, 0], [41, 25, 0], [63, 7, 0], [63, 7, 0], [63, 7, 0], [60, 91, 0], [60, 91, 0], [60, 91, 0], [86, 64, 0], [86, 64, 0], [86, 64, 0], [86, 64, 0], [61, 58, 0], [55, 58, 0], [61, 49, 0], [61, 58, 0], [97, 64, 0], [61, 49, 0], [97, 64, 0], [61, 58, 0], [97, 64, 0], [23, 47, 0], [4, 47, 0], [23, 4, 0], [23, 47, 0], [4, 47, 0], [23, 4, 0], [25, 81, 0], [14, 74, 0], [36, 70, 0], [25, 81, 0], [36, 74, 0], [14, 70, 0], [77, 74, 0], [14, 33, 0], [77, 74, 0], [25, 81, 0], [96, 79, 0], [14, 70, 0], [96, 79, 0], [96, 79, 0], [96, 79, 0], [96, 79, 0], [57, 8, 0], [57, 8, 0], [57, 8, 0], [96, 3, 0], [57, 8, 0], [96, 3, 0], [96, 3, 0], [96, 3, 0], [25, 64, 0], [96, 3, 0], [25, 64, 0], [44, 79, 0], [25, 64, 0], [97, 7, 0], [44, 79, 0], [97, 7, 0], [8, 4, 0], [8, 4, 0], [44, 79, 0], [8, 4, 0], [97, 7, 0], [88, 37, 0], [88, 37, 0], [88, 37, 0], [96, 64, 0], [7, 3, 0], [7, 3, 0], [33, 61, 0], [32, 61, 0], [33, 29, 0], [7, 3, 0], [33, 29, 0], [7, 3, 0], [32, 61, 0], [33, 61, 0], [33, 61, 0], [7, 3, 0], [24, 83, 0], [24, 83, 0], [24, 83, 0], [78, 31, 0], [78, 31, 0], [75, 51, 0], [78, 31, 0], [35, 51, 0], [31, 83, 0], [75, 32, 0], [78, 31, 0], [31, 83, 0], [35, 51, 0], [31, 83, 0], [75, 32, 0], [31, 83, 0], [75, 51, 0], [44, 95, 0], [44, 95, 0], [7, 59, 0], [44, 95, 0], [14, 47, 0], [23, 36, 0], [53, 51, 0], [44, 95, 0], [77, 23, 0], [14, 51, 0], [7, 59, 0], [77, 36, 0], [14, 23, 0], [39, 47, 0], [77, 51, 0], [44, 95, 0], [77, 47, 0], [7, 59, 0], [39, 51, 0], [7, 59, 0], [87, 30, 0], [7, 59, 0], [94, 44, 0], [88, 79, 0], [50, 60, 0], [87, 30, 0], [94, 60, 0], [87, 30, 0], [88, 79, 0], [94, 60, 0], [50, 60, 0], [88, 79, 0], [94, 44, 0], [94, 60, 0], [81, 95, 0], [50, 60, 0], [94, 44, 0], [81, 95, 0], [81, 95, 0], [92, 55, 0], [22, 26, 0], [22, 26, 0], [22, 40, 0], [28, 40, 0], [92, 39, 0], [22, 40, 0], [22, 26, 0], [92, 39, 0], [22, 26, 0], [69, 73, 0], [28, 40, 0], [60, 73, 0], [92, 39, 0], [60, 63, 0], [33, 43, 0], [24, 42, 0], [78, 31, 0], [52, 82, 0], [24, 30, 0], [34, 75, 0], [54, 91, 0], [47, 43, 0], [52, 75, 0], [54, 82, 0], [24, 43, 0], [68, 63, 0], [34, 46, 0], [78, 91, 0], [33, 42, 0], [7, 73, 0], [44, 58, 0], [60, 81, 0], [34, 48, 0], [52, 91, 0], [24, 42, 0], [66, 76, 0], [69, 73, 0], [78, 75, 0], [89, 91, 0], [33, 43, 0], [68, 7, 0], [54, 75, 0], [34, 82, 0], [47, 43, 0], [66, 76, 0], [60, 58, 0], [83, 82, 0], [78, 46, 0], [24, 30, 0], [44, 81, 0], [34, 91, 0], [33, 42, 0], [7, 63, 0], [57, 32, 0], [66, 76, 0], [24, 43, 0], [68, 73, 0], [78, 82, 0], [52, 48, 0], [35, 84, 0], [44, 55, 0], [78, 48, 0], [83, 91, 0], [14, 84, 0], [62, 81, 0], [14, 32, 0], [76, 6, 0], [66, 76, 0], [57, 84, 0], [2, 79, 0], [56, 72, 0], [57, 14, 0], [25, 93, 0], [6, 45, 0], [14, 32, 0], [7, 81, 0], [76, 50, 0], [57, 84, 0], [66, 76, 0], [41, 64, 0], [51, 72, 0], [0, 73, 0], [66, 76, 0], [86, 93, 0], [63, 64, 0], [6, 50, 0], [7, 25, 0], [76, 72, 0], [60, 73, 0], [51, 50, 0], [2, 81, 0], [6, 72, 0], [7, 93, 0], [76, 45, 0], [0, 64, 0], [86, 81, 0], [2, 25, 0], [0, 55, 0], [41, 59, 0], [25, 81, 0], [12, 76, 0], [7, 79, 0], [59, 85, 0], [60, 64, 0], [15, 53, 0], [63, 73, 0], [84, 85, 0], [0, 37, 0], [2, 7, 0], [88, 93, 0], [12, 15, 0], [60, 59, 0], [59, 76, 0], [41, 73, 0], [12, 53, 0], [2, 93, 0], [15, 85, 0], [25, 79, 0], [15, 76, 0], [0, 59, 0], [12, 85, 0], [9, 89, 0], [5, 16, 0], [70, 73, 0], [72, 89, 0], [9, 16, 0], [1, 5, 0], [41, 55, 0], [9, 65, 0], [10, 89, 0], [5, 10, 0], [1, 9, 0], [25, 59, 0], [1, 65, 0], [10, 16, 0], [5, 9, 0], [2, 64, 0], [10, 65, 0], [1, 89, 0], [5, 89, 0], [9, 10, 0], [5, 65, 0], [1, 16, 0], [16, 65, 0], [2, 59, 0], [1, 10, 0], [66, 85, 0], [50, 91, 0], [66, 91, 0], [50, 85, 0], [41, 59, 0], [90, 91, 0], [50, 60, 0], [50, 85, 0], [66, 91, 0], [7, 64, 0], [41, 59, 0], [90, 91, 0], [50, 60, 0], [7, 64, 0], [50, 91, 0], [66, 85, 0], [41, 59, 0], [7, 64, 0], [70, 93, 0], [70, 93, 0], [70, 93, 0], [93, 39, 0], [93, 39, 0], [96, 25, 0], [96, 25, 0], [96, 25, 0], [96, 25, 0], [96, 25, 0], [2, 81, 0], [68, 56, 0], [61, 88, 0], [68, 39, 0], [44, 88, 0], [68, 88, 0], [44, 56, 0], [2, 81, 0], [41, 93, 0], [16, 67, 0], [68, 56, 0], [2, 81, 0], [6, 30, 0], [44, 88, 0], [41, 93, 0], [61, 67, 0], [68, 16, 0], [6, 39, 0], [33, 88, 0], [2, 81, 0], [41, 93, 0], [6, 88, 0], [33, 39, 0], [16, 56, 0], [68, 67, 0], [6, 67, 0], [16, 30, 0], [61, 88, 0], [68, 39, 0], [6, 16, 0], [33, 67, 0], [44, 88, 0], [68, 56, 0], [41, 81, 0], [41, 81, 0], [41, 81, 0], [7, 1, 0], [7, 1, 0], [61, 63, 0], [55, 63, 0], [61, 49, 0], [61, 63, 0], [55, 63, 0], [61, 49, 0], [61, 63, 0], [70, 3, 0], [60, 91, 0], [60, 91, 0], [60, 91, 0], [17, 5, 0], [17, 5, 0], [17, 5, 0], [17, 5, 0], [17, 5, 0], [37, 61, 0], [87, 61, 0], [37, 61, 0], [87, 34, 0], [87, 34, 0], [87, 61, 0], [24, 28, 0], [24, 28, 0], [24, 28, 0], [57, 32, 0], [57, 36, 0], [35, 36, 0], [57, 70, 0], [23, 32, 0], [14, 36, 0], [57, 23, 0], [14, 23, 0], [39, 70, 0], [14, 32, 0], [23, 70, 0], [14, 70, 0], [23, 36, 0], [35, 70, 0], [57, 14, 0], [14, 32, 0], [23, 36, 0], [57, 70, 0], [97, 55, 0], [97, 55, 0], [37, 43, 0], [37, 43, 0], [97, 55, 0], [37, 43, 0], [97, 55, 0], [97, 55, 0], [4, 36, 0], [4, 36, 0], [88, 3, 0], [88, 3, 0], [33, 4, 0], [41, 79, 0], [33, 83, 0], [33, 4, 0], [4, 83, 0], [8, 51, 0], [53, 84, 0], [4, 83, 0], [97, 1, 0], [8, 51, 0], [53, 84, 0], [88, 3, 0], [33, 83, 0], [8, 51, 0], [33, 4, 0], [97, 1, 0], [41, 79, 0], [97, 1, 0], [41, 79, 0], [41, 79, 0], [31, 26, 0], [31, 26, 0], [14, 74, 0], [14, 74, 0], [14, 74, 0], [14, 74, 0], [44, 37, 0], [8, 32, 0], [57, 80, 0], [85, 49, 0], [24, 36, 0], [46, 68, 0], [44, 37, 0], [24, 32, 0], [57, 68, 0], [85, 49, 0], [8, 36, 0], [46, 80, 0], [85, 49, 0], [35, 36, 0], [75, 80, 0], [8, 24, 0], [46, 51, 0], [55, 11, 0], [8, 68, 0], [85, 63, 0], [24, 80, 0], [56, 86, 0], [55, 11, 0], [39, 41, 0], [85, 63, 0], [35, 51, 0], [96, 7, 0], [55, 86, 0], [11, 50, 0], [8, 80, 0], [24, 68, 0], [11, 86, 0], [55, 50, 0], [11, 50, 0], [55, 86, 0], [25, 37, 0], [96, 7, 0], [56, 86, 0], [4, 47, 0], [23, 47, 0], [82, 14, 0], [55, 50, 0], [11, 86, 0], [23, 4, 0], [82, 14, 0], [4, 47, 0], [82, 14, 0], [25, 37, 0], [23, 47, 0], [23, 4, 0], [25, 37, 0], [55, 11, 0], [49, 89, 0], [97, 77, 0], [38, 91, 0], [62, 63, 0], [85, 89, 0], [97, 43, 0], [22, 40, 0], [36, 42, 0], [38, 58, 0], [69, 91, 0], [31, 83, 0], [77, 87, 0], [21, 83, 0], [22, 70, 0], [31, 42, 0], [45, 74, 0], [38, 63, 0], [62, 91, 0], [49, 77, 0], [97, 89, 0], [38, 77, 0], [49, 91, 0], [47, 83, 0], [82, 87, 0], [62, 89, 0], [97, 63, 0], [21, 33, 0], [45, 70, 0], [31, 33, 0], [77, 74, 0], [21, 42, 0], [22, 87, 0], [38, 91, 0], [49, 77, 0], [69, 89, 0], [97, 58, 0], [22, 74, 0], [36, 83, 0], [31, 21, 0], [45, 87, 0], [44, 59, 0], [21, 74, 0], [31, 22, 0], [45, 42, 0], [77, 83, 0], [44, 59, 0], [44, 59, 0], [4, 47, 0], [28, 61, 0], [14, 34, 0], [23, 29, 0], [4, 78, 0], [23, 61, 0], [32, 84, 0], [37, 47, 0], [4, 34, 0], [28, 84, 0], [14, 78, 0], [32, 61, 0], [81, 59, 0], [25, 79, 0], [14, 47, 0], [67, 84, 0], [23, 26, 0], [37, 78, 0], [25, 79, 0], [29, 53, 0], [29, 53, 0], [81, 59, 0], [96, 37, 0], [29, 53, 0], [4, 14, 0], [23, 84, 0], [97, 7, 0], [29, 53, 0], [53, 78, 0], [28, 29, 0], [29, 53, 0], [14, 23, 0], [32, 34, 0], [97, 7, 0], [29, 53, 0], [4, 61, 0], [53, 84, 0], [25, 79, 0], [96, 37, 0], [97, 7, 0], [96, 37, 0], [44, 79, 0], [62, 59, 0], [62, 59, 0], [44, 79, 0], [41, 93, 0], [41, 93, 0], [44, 1, 0], [96, 59, 0], [44, 1, 0], [44, 1, 0], [96, 59, 0], [6, 45, 0], [6, 45, 0], [96, 59, 0], [44, 1, 0], [6, 45, 0], [44, 1, 0], [6, 45, 0], [38, 77, 0], [51, 88, 0], [85, 88, 0], [38, 45, 0], [51, 77, 0], [38, 88, 0], [50, 56, 0], [50, 56, 0], [0, 81, 0], [50, 56, 0], [41, 64, 0], [50, 56, 0], [50, 56, 0], [0, 7, 0], [38, 37, 0], [7, 81, 0], [38, 64, 0], [0, 81, 0], [41, 64, 0], [41, 81, 0], [0, 64, 0], [0, 37, 0], [95, 27, 0], [19, 71, 0], [70, 81, 0], [19, 27, 0], [95, 71, 0], [95, 19, 0], [30, 71, 0], [70, 81, 0], [19, 71, 0], [95, 27, 0], [95, 71, 0], [19, 27, 0], [30, 71, 0], [95, 19, 0], [12, 91, 0], [15, 48, 0], [34, 53, 0], [50, 48, 0], [15, 85, 0], [50, 85, 0], [12, 31, 0], [59, 91, 0], [15, 44, 0], [12, 53, 0], [54, 85, 0], [34, 91, 0], [41, 3, 0], [70, 25, 0], [50, 91, 0], [12, 85, 0], [90, 91, 0], [70, 25, 0], [41, 3, 0], [70, 25, 0], [41, 3, 0], [92, 7, 0], [70, 25, 0], [92, 7, 0], [41, 79, 0], [70, 25, 0], [70, 25, 0], [41, 79, 0], [70, 25, 0], [41, 79, 0], [2, 93, 0], [7, 64, 0], [2, 93, 0], [63, 64, 0], [48, 38, 0], [63, 7, 0], [2, 25, 0]]\n"
     ]
    }
   ],
   "source": [
    "final_for=[]\n",
    "teams,winners=[],[]\n",
    "for i in range(len(X)):\n",
    "    teams=[]\n",
    "    teams.append(X[i][0])\n",
    "    teams.append(X[i][1])\n",
    "    teams.append(z[i])\n",
    "    final_for.append(teams)\n",
    "print(final_for)"
   ]
  },
  {
   "cell_type": "code",
   "execution_count": 57,
   "id": "d5630c65",
   "metadata": {},
   "outputs": [],
   "source": [
    "final_for=np.array(final_for)"
   ]
  },
  {
   "cell_type": "code",
   "execution_count": 58,
   "id": "af543b59",
   "metadata": {},
   "outputs": [],
   "source": [
    "final_for_frame=pd.DataFrame(final_for)\n"
   ]
  },
  {
   "cell_type": "code",
   "execution_count": 59,
   "id": "a7063e53",
   "metadata": {},
   "outputs": [
    {
     "data": {
      "text/html": [
       "<div>\n",
       "<style scoped>\n",
       "    .dataframe tbody tr th:only-of-type {\n",
       "        vertical-align: middle;\n",
       "    }\n",
       "\n",
       "    .dataframe tbody tr th {\n",
       "        vertical-align: top;\n",
       "    }\n",
       "\n",
       "    .dataframe thead th {\n",
       "        text-align: right;\n",
       "    }\n",
       "</style>\n",
       "<table border=\"1\" class=\"dataframe\">\n",
       "  <thead>\n",
       "    <tr style=\"text-align: right;\">\n",
       "      <th></th>\n",
       "      <th>Team_1</th>\n",
       "      <th>Team_2</th>\n",
       "      <th>Winner</th>\n",
       "    </tr>\n",
       "  </thead>\n",
       "  <tbody>\n",
       "    <tr>\n",
       "      <th>0</th>\n",
       "      <td>86</td>\n",
       "      <td>93</td>\n",
       "      <td>43</td>\n",
       "    </tr>\n",
       "    <tr>\n",
       "      <th>1</th>\n",
       "      <td>50</td>\n",
       "      <td>59</td>\n",
       "      <td>7</td>\n",
       "    </tr>\n",
       "    <tr>\n",
       "      <th>2</th>\n",
       "      <td>70</td>\n",
       "      <td>73</td>\n",
       "      <td>64</td>\n",
       "    </tr>\n",
       "    <tr>\n",
       "      <th>3</th>\n",
       "      <td>2</td>\n",
       "      <td>95</td>\n",
       "      <td>20</td>\n",
       "    </tr>\n",
       "    <tr>\n",
       "      <th>4</th>\n",
       "      <td>7</td>\n",
       "      <td>93</td>\n",
       "      <td>2</td>\n",
       "    </tr>\n",
       "    <tr>\n",
       "      <th>...</th>\n",
       "      <td>...</td>\n",
       "      <td>...</td>\n",
       "      <td>...</td>\n",
       "    </tr>\n",
       "    <tr>\n",
       "      <th>1410</th>\n",
       "      <td>2</td>\n",
       "      <td>93</td>\n",
       "      <td>0</td>\n",
       "    </tr>\n",
       "    <tr>\n",
       "      <th>1411</th>\n",
       "      <td>63</td>\n",
       "      <td>64</td>\n",
       "      <td>0</td>\n",
       "    </tr>\n",
       "    <tr>\n",
       "      <th>1412</th>\n",
       "      <td>48</td>\n",
       "      <td>38</td>\n",
       "      <td>0</td>\n",
       "    </tr>\n",
       "    <tr>\n",
       "      <th>1413</th>\n",
       "      <td>63</td>\n",
       "      <td>7</td>\n",
       "      <td>0</td>\n",
       "    </tr>\n",
       "    <tr>\n",
       "      <th>1414</th>\n",
       "      <td>2</td>\n",
       "      <td>25</td>\n",
       "      <td>0</td>\n",
       "    </tr>\n",
       "  </tbody>\n",
       "</table>\n",
       "<p>1415 rows × 3 columns</p>\n",
       "</div>"
      ],
      "text/plain": [
       "      Team_1  Team_2  Winner\n",
       "0         86      93      43\n",
       "1         50      59       7\n",
       "2         70      73      64\n",
       "3          2      95      20\n",
       "4          7      93       2\n",
       "...      ...     ...     ...\n",
       "1410       2      93       0\n",
       "1411      63      64       0\n",
       "1412      48      38       0\n",
       "1413      63       7       0\n",
       "1414       2      25       0\n",
       "\n",
       "[1415 rows x 3 columns]"
      ]
     },
     "execution_count": 59,
     "metadata": {},
     "output_type": "execute_result"
    }
   ],
   "source": [
    "final_for_frame.columns=[\"Team_1\",\"Team_2\",\"Winner\"]\n",
    "final_for_frame\n",
    "#rf e jabo"
   ]
  },
  {
   "cell_type": "code",
   "execution_count": 60,
   "id": "8bda7c6a",
   "metadata": {},
   "outputs": [],
   "source": [
    "#convert team-1 and team-2 from categorical variables to continous inputs \n",
    "# Get dummy variables\n",
    "#final = pd.get_dummies(df_teams_2010, prefix=['Team_1', 'Team_2'], columns=['Team_1', 'Team_2'])\n",
    "\n",
    "# Separate X and y sets\n",
    "#X = final.drop(['Winner'], axis=1)\n",
    "# print(X)\n",
    "#y = final[\"Winner\"]\n",
    "\n",
    "\n",
    "# Separate train and test sets\n",
    "#X_train, X_test, y_train, y_test = train_test_split(X, y, test_size=0.30, random_state=42)\n",
    "# from sklearn.preprocessing import StandardScaler    \n",
    "# st_x= StandardScaler()    \n",
    "# X_train= st_x.fit_transform(X_train)    \n",
    "# X_test= st_x.transform(X_test) "
   ]
  },
  {
   "cell_type": "code",
   "execution_count": 61,
   "id": "6bd54b76",
   "metadata": {},
   "outputs": [],
   "source": [
    "# y_train,y_test=y_train.reshape(-1,1),y_test.reshape(-1,1)"
   ]
  },
  {
   "cell_type": "code",
   "execution_count": 62,
   "id": "cb5328a3",
   "metadata": {},
   "outputs": [],
   "source": [
    "# y_train=st_x.fit_transform(y_train)\n",
    "# y_test=st_x.fit_transform(y_test)"
   ]
  },
  {
   "cell_type": "code",
   "execution_count": 63,
   "id": "0b54f054",
   "metadata": {},
   "outputs": [],
   "source": [
    "# print(type(X_train))\n",
    "# print(X_train)"
   ]
  },
  {
   "cell_type": "code",
   "execution_count": 64,
   "id": "2ea7fe3c",
   "metadata": {},
   "outputs": [],
   "source": [
    "# model = RandomForestClassifier(n_estimators=500, max_depth=20,random_state=1) \n",
    "# # evaluate the model\n",
    "# cv = RepeatedStratifiedKFold(n_splits=5, n_repeats=3, random_state=1)\n",
    "# n_scores = cross_val_score(model, X, y, scoring='accuracy', cv=cv, n_jobs=-1, error_score='raise')\n",
    "# # report performance\n",
    "# print('Accuracy: %.3f (%.3f)' % (np.mean(n_scores), np.std(n_scores)))\n"
   ]
  },
  {
   "cell_type": "code",
   "execution_count": 65,
   "id": "e47507ab",
   "metadata": {},
   "outputs": [],
   "source": [
    "# model = KNeighborsClassifier()\n",
    "# # evaluate the model\n",
    "# cv = RepeatedStratifiedKFold(n_splits=10, n_repeats=3, random_state=1)\n",
    "# n_scores = cross_val_score(model, X, y, scoring='accuracy', cv=cv, n_jobs=-1, error_score='raise')\n",
    "# # report performance\n",
    "# print('Accuracy: %.3f (%.3f)' % (np.mean(n_scores), np.std(n_scores)))"
   ]
  },
  {
   "cell_type": "code",
   "execution_count": 66,
   "id": "d406fa05",
   "metadata": {},
   "outputs": [],
   "source": [
    "# model = SVC(kernel='linear', random_state=1)\n",
    "# # evaluate the model\n",
    "# cv = RepeatedStratifiedKFold(n_splits=10, n_repeats=3, random_state=1)\n",
    "# n_scores = cross_val_score(model, X, y, scoring='accuracy', cv=cv, n_jobs=-1, error_score='raise')\n",
    "# # report performance\n",
    "# print('Accuracy: %.3f (%.3f)' % (np.mean(n_scores), np.std(n_scores)))"
   ]
  },
  {
   "cell_type": "code",
   "execution_count": 67,
   "id": "1d3d737d",
   "metadata": {},
   "outputs": [],
   "source": [
    "# model = LogisticRegression(random_state=1)\n",
    "# # evaluate the model\n",
    "# cv = RepeatedStratifiedKFold(n_splits=10, n_repeats=3, random_state=1)\n",
    "# n_scores = cross_val_score(model, X, y, scoring='accuracy', cv=cv, n_jobs=-1, error_score='raise')\n",
    "# # report performance\n",
    "# print('Accuracy: %.3f (%.3f)' % (np.mean(n_scores), np.std(n_scores)))"
   ]
  },
  {
   "cell_type": "code",
   "execution_count": 68,
   "id": "c665d2b4",
   "metadata": {},
   "outputs": [
    {
     "name": "stderr",
     "output_type": "stream",
     "text": [
      "C:\\Users\\Arnab\\AppData\\Local\\Temp\\ipykernel_12592\\2875616719.py:4: DataConversionWarning: A column-vector y was passed when a 1d array was expected. Please change the shape of y to (n_samples,), for example using ravel().\n",
      "  rf.fit(X, y)\n"
     ]
    },
    {
     "name": "stdout",
     "output_type": "stream",
     "text": [
      "2.5557072162628174\n"
     ]
    }
   ],
   "source": [
    "\n",
    " \n",
    "# store starting time\n",
    "begin = time.time()\n",
    "rf = RandomForestClassifier(n_estimators=500,max_depth=22,random_state=148) \n",
    "rf.fit(X, y)\n",
    "end = time.time()\n",
    "# get_score(rf,X_train,X_test,y_train,y_test)\n",
    "print(end-begin)\n"
   ]
  },
  {
   "cell_type": "code",
   "execution_count": 69,
   "id": "00e0fad9",
   "metadata": {},
   "outputs": [
    {
     "data": {
      "text/plain": [
       "0.8303886925795053"
      ]
     },
     "execution_count": 69,
     "metadata": {},
     "output_type": "execute_result"
    }
   ],
   "source": [
    "from sklearn.metrics import accuracy_score\n",
    "rf_test = accuracy_score(y_test,rf.predict(X_test))\n",
    "rf_test"
   ]
  },
  {
   "cell_type": "code",
   "execution_count": 70,
   "id": "4acdf709",
   "metadata": {},
   "outputs": [
    {
     "data": {
      "text/plain": [
       "0.8206713780918727"
      ]
     },
     "execution_count": 70,
     "metadata": {},
     "output_type": "execute_result"
    }
   ],
   "source": [
    "rf_train = accuracy_score(y_train,rf.predict(X_train))\n",
    "rf_train"
   ]
  },
  {
   "cell_type": "code",
   "execution_count": 71,
   "id": "77b80c01",
   "metadata": {},
   "outputs": [
    {
     "name": "stdout",
     "output_type": "stream",
     "text": [
      "0.006997108459472656\n"
     ]
    }
   ],
   "source": [
    "from sklearn.tree import DecisionTreeClassifier\n",
    "begin = time.time()\n",
    "dtree = DecisionTreeClassifier(criterion='gini', random_state=100)\n",
    "dtree.fit(X,y)\n",
    "end = time.time()\n",
    "print(end-begin)"
   ]
  },
  {
   "cell_type": "code",
   "execution_count": 72,
   "id": "d822ef2a",
   "metadata": {},
   "outputs": [
    {
     "data": {
      "text/plain": [
       "0.8445229681978799"
      ]
     },
     "execution_count": 72,
     "metadata": {},
     "output_type": "execute_result"
    }
   ],
   "source": [
    "dtree_test = accuracy_score(y_test,dtree.predict(X_test))\n",
    "dtree_test"
   ]
  },
  {
   "cell_type": "code",
   "execution_count": 73,
   "id": "a077943c",
   "metadata": {},
   "outputs": [
    {
     "data": {
      "text/plain": [
       "0.8171378091872792"
      ]
     },
     "execution_count": 73,
     "metadata": {},
     "output_type": "execute_result"
    }
   ],
   "source": [
    "dtree_train = accuracy_score(y_train,dtree.predict(X_train))\n",
    "dtree_train"
   ]
  },
  {
   "cell_type": "code",
   "execution_count": 74,
   "id": "7e440472",
   "metadata": {},
   "outputs": [
    {
     "name": "stderr",
     "output_type": "stream",
     "text": [
      "c:\\users\\arnab\\appdata\\local\\programs\\python\\python39\\lib\\site-packages\\sklearn\\ensemble\\_gb.py:570: DataConversionWarning: A column-vector y was passed when a 1d array was expected. Please change the shape of y to (n_samples, ), for example using ravel().\n",
      "  y = column_or_1d(y, warn=True)\n"
     ]
    },
    {
     "name": "stdout",
     "output_type": "stream",
     "text": [
      "47.73508286476135\n"
     ]
    }
   ],
   "source": [
    "from sklearn.ensemble import GradientBoostingClassifier\n",
    "begin = time.time()\n",
    "model = GradientBoostingClassifier()\n",
    "# cv = RepeatedStratifiedKFold(n_splits=10, n_repeats=3, random_state=1)\n",
    "# n_scores = cross_val_score(model, X, y, scoring='accuracy', cv=cv, n_jobs=-1, error_score='raise')\n",
    "# model = GradientBoostingClassifier()\n",
    "model.fit(X, y)\n",
    "end = time.time()\n",
    "print(end-begin)"
   ]
  },
  {
   "cell_type": "code",
   "execution_count": 75,
   "id": "01830515",
   "metadata": {},
   "outputs": [
    {
     "data": {
      "text/plain": [
       "0.7420494699646644"
      ]
     },
     "execution_count": 75,
     "metadata": {},
     "output_type": "execute_result"
    }
   ],
   "source": [
    "model_GB_test = accuracy_score(y_test,model.predict(X_test))\n",
    "model_GB_test"
   ]
  },
  {
   "cell_type": "code",
   "execution_count": 76,
   "id": "0c91b189",
   "metadata": {},
   "outputs": [
    {
     "data": {
      "text/plain": [
       "0.7367491166077739"
      ]
     },
     "execution_count": 76,
     "metadata": {},
     "output_type": "execute_result"
    }
   ],
   "source": [
    "model_GB_train = accuracy_score(y_train,model.predict(X_train))\n",
    "model_GB_train"
   ]
  },
  {
   "cell_type": "code",
   "execution_count": 77,
   "id": "5fb2ab00",
   "metadata": {},
   "outputs": [
    {
     "name": "stderr",
     "output_type": "stream",
     "text": [
      "c:\\users\\arnab\\appdata\\local\\programs\\python\\python39\\lib\\site-packages\\sklearn\\utils\\validation.py:1111: DataConversionWarning: A column-vector y was passed when a 1d array was expected. Please change the shape of y to (n_samples, ), for example using ravel().\n",
      "  y = column_or_1d(y, warn=True)\n"
     ]
    },
    {
     "name": "stdout",
     "output_type": "stream",
     "text": [
      "35.367992639541626\n"
     ]
    }
   ],
   "source": [
    "from sklearn.ensemble import HistGradientBoostingClassifier\n",
    "begin = time.time()\n",
    "Histclf = HistGradientBoostingClassifier(max_iter=100).fit(X,y)\n",
    "end = time.time()\n",
    "print(end-begin)\n"
   ]
  },
  {
   "cell_type": "code",
   "execution_count": 78,
   "id": "fac78f6d",
   "metadata": {},
   "outputs": [
    {
     "data": {
      "text/plain": [
       "0.8206713780918727"
      ]
     },
     "execution_count": 78,
     "metadata": {},
     "output_type": "execute_result"
    }
   ],
   "source": [
    "Histclf_train = accuracy_score(y_train,Histclf.predict(X_train))\n",
    "Histclf_train"
   ]
  },
  {
   "cell_type": "code",
   "execution_count": 79,
   "id": "39c558de",
   "metadata": {},
   "outputs": [
    {
     "data": {
      "text/plain": [
       "0.8303886925795053"
      ]
     },
     "execution_count": 79,
     "metadata": {},
     "output_type": "execute_result"
    }
   ],
   "source": [
    "Histclf_test = accuracy_score(y_test,Histclf.predict(X_test))\n",
    "Histclf_test"
   ]
  },
  {
   "cell_type": "code",
   "execution_count": 80,
   "id": "5b47aa91",
   "metadata": {},
   "outputs": [
    {
     "name": "stderr",
     "output_type": "stream",
     "text": [
      "c:\\users\\arnab\\appdata\\local\\programs\\python\\python39\\lib\\site-packages\\sklearn\\ensemble\\_bagging.py:760: DataConversionWarning: A column-vector y was passed when a 1d array was expected. Please change the shape of y to (n_samples, ), for example using ravel().\n",
      "  y = column_or_1d(y, warn=True)\n"
     ]
    },
    {
     "name": "stdout",
     "output_type": "stream",
     "text": [
      "24.58710789680481\n"
     ]
    }
   ],
   "source": [
    "from sklearn.ensemble import BaggingClassifier\n",
    "begin = time.time()\n",
    "bagging = BaggingClassifier(rf).fit(X,y)\n",
    "end = time.time()\n",
    "print(end-begin)"
   ]
  },
  {
   "cell_type": "code",
   "execution_count": 81,
   "id": "33614a41",
   "metadata": {},
   "outputs": [
    {
     "data": {
      "text/plain": [
       "0.8268551236749117"
      ]
     },
     "execution_count": 81,
     "metadata": {},
     "output_type": "execute_result"
    }
   ],
   "source": [
    "bagging_test = accuracy_score(y_test,bagging.predict(X_test))\n",
    "bagging_test\n"
   ]
  },
  {
   "cell_type": "code",
   "execution_count": 82,
   "id": "587ac40d",
   "metadata": {},
   "outputs": [
    {
     "data": {
      "text/plain": [
       "0.8065371024734982"
      ]
     },
     "execution_count": 82,
     "metadata": {},
     "output_type": "execute_result"
    }
   ],
   "source": [
    "bagging_train = accuracy_score(y_train,bagging.predict(X_train))\n",
    "bagging_train"
   ]
  },
  {
   "cell_type": "code",
   "execution_count": 83,
   "id": "b2b56ed7",
   "metadata": {},
   "outputs": [
    {
     "name": "stderr",
     "output_type": "stream",
     "text": [
      "c:\\users\\arnab\\appdata\\local\\programs\\python\\python39\\lib\\site-packages\\sklearn\\utils\\validation.py:1111: DataConversionWarning: A column-vector y was passed when a 1d array was expected. Please change the shape of y to (n_samples, ), for example using ravel().\n",
      "  y = column_or_1d(y, warn=True)\n"
     ]
    },
    {
     "name": "stdout",
     "output_type": "stream",
     "text": [
      "0.5270459651947021\n"
     ]
    }
   ],
   "source": [
    "from sklearn.ensemble import AdaBoostClassifier\n",
    "begin = time.time()\n",
    "ada = AdaBoostClassifier()\n",
    "ada.fit(X,y)\n",
    "end = time.time()\n",
    "print(end-begin)"
   ]
  },
  {
   "cell_type": "code",
   "execution_count": 84,
   "id": "0c215534",
   "metadata": {},
   "outputs": [
    {
     "data": {
      "text/plain": [
       "0.10600706713780919"
      ]
     },
     "execution_count": 84,
     "metadata": {},
     "output_type": "execute_result"
    }
   ],
   "source": [
    "ada_test = accuracy_score(y_test,ada.predict(X_test))\n",
    "ada_test"
   ]
  },
  {
   "cell_type": "code",
   "execution_count": 85,
   "id": "c7138540",
   "metadata": {},
   "outputs": [
    {
     "data": {
      "text/plain": [
       "0.08745583038869258"
      ]
     },
     "execution_count": 85,
     "metadata": {},
     "output_type": "execute_result"
    }
   ],
   "source": [
    "ada_train = accuracy_score(y_train,ada.predict(X_train))\n",
    "ada_train"
   ]
  },
  {
   "cell_type": "code",
   "execution_count": 86,
   "id": "5db9bffa",
   "metadata": {},
   "outputs": [
    {
     "name": "stdout",
     "output_type": "stream",
     "text": [
      "12.547488927841187\n"
     ]
    }
   ],
   "source": [
    "from xgboost import XGBClassifier\n",
    "begin = time.time()\n",
    "XGB = XGBClassifier()\n",
    "XGB.fit(X,y)\n",
    "end = time.time()\n",
    "print(end-begin)"
   ]
  },
  {
   "cell_type": "code",
   "execution_count": 87,
   "id": "b9c3b493",
   "metadata": {},
   "outputs": [
    {
     "data": {
      "text/plain": [
       "0.8215547703180212"
      ]
     },
     "execution_count": 87,
     "metadata": {},
     "output_type": "execute_result"
    }
   ],
   "source": [
    "XGB_train = accuracy_score(y_train,XGB.predict(X_train))\n",
    "XGB_train"
   ]
  },
  {
   "cell_type": "code",
   "execution_count": 88,
   "id": "4dd38195",
   "metadata": {},
   "outputs": [
    {
     "data": {
      "text/plain": [
       "0.8268551236749117"
      ]
     },
     "execution_count": 88,
     "metadata": {},
     "output_type": "execute_result"
    }
   ],
   "source": [
    "XGB_test = accuracy_score(y_test,XGB.predict(X_test))\n",
    "XGB_test"
   ]
  },
  {
   "cell_type": "code",
   "execution_count": 89,
   "id": "596022bb",
   "metadata": {},
   "outputs": [],
   "source": [
    "estimator = []\n",
    "estimator.append(('LR', \n",
    "                  LogisticRegression(solver ='lbfgs', \n",
    "                                     multi_class ='multinomial', \n",
    "                                     max_iter = 200)))\n",
    "estimator.append(('SVC', SVC(gamma ='auto', probability = True)))\n",
    "estimator.append(('DTC', DecisionTreeClassifier()))"
   ]
  },
  {
   "cell_type": "code",
   "execution_count": 90,
   "id": "1bd1f976",
   "metadata": {},
   "outputs": [
    {
     "name": "stderr",
     "output_type": "stream",
     "text": [
      "c:\\users\\arnab\\appdata\\local\\programs\\python\\python39\\lib\\site-packages\\sklearn\\preprocessing\\_label.py:98: DataConversionWarning: A column-vector y was passed when a 1d array was expected. Please change the shape of y to (n_samples, ), for example using ravel().\n",
      "  y = column_or_1d(y, warn=True)\n",
      "c:\\users\\arnab\\appdata\\local\\programs\\python\\python39\\lib\\site-packages\\sklearn\\preprocessing\\_label.py:133: DataConversionWarning: A column-vector y was passed when a 1d array was expected. Please change the shape of y to (n_samples, ), for example using ravel().\n",
      "  y = column_or_1d(y, warn=True)\n",
      "c:\\users\\arnab\\appdata\\local\\programs\\python\\python39\\lib\\site-packages\\sklearn\\linear_model\\_logistic.py:444: ConvergenceWarning: lbfgs failed to converge (status=1):\n",
      "STOP: TOTAL NO. of ITERATIONS REACHED LIMIT.\n",
      "\n",
      "Increase the number of iterations (max_iter) or scale the data as shown in:\n",
      "    https://scikit-learn.org/stable/modules/preprocessing.html\n",
      "Please also refer to the documentation for alternative solver options:\n",
      "    https://scikit-learn.org/stable/modules/linear_model.html#logistic-regression\n",
      "  n_iter_i = _check_optimize_result(\n"
     ]
    },
    {
     "name": "stdout",
     "output_type": "stream",
     "text": [
      "3.932429313659668\n"
     ]
    }
   ],
   "source": [
    "from sklearn.ensemble import VotingClassifier\n",
    "begin = time.time()\n",
    "vote = VotingClassifier(estimators = estimator, voting = \"hard\")\n",
    "vote.fit(X,y)\n",
    "end = time.time()\n",
    "print(end-begin)"
   ]
  },
  {
   "cell_type": "code",
   "execution_count": 91,
   "id": "a9e505c9",
   "metadata": {},
   "outputs": [
    {
     "data": {
      "text/plain": [
       "0.8109540636042403"
      ]
     },
     "execution_count": 91,
     "metadata": {},
     "output_type": "execute_result"
    }
   ],
   "source": [
    "vote_train = accuracy_score(y_train,vote.predict(X_train))\n",
    "vote_train"
   ]
  },
  {
   "cell_type": "code",
   "execution_count": 92,
   "id": "7aca560f",
   "metadata": {},
   "outputs": [
    {
     "data": {
      "text/plain": [
       "0.8374558303886925"
      ]
     },
     "execution_count": 92,
     "metadata": {},
     "output_type": "execute_result"
    }
   ],
   "source": [
    "vote_test = accuracy_score(y_test,vote.predict(X_test))\n",
    "vote_test"
   ]
  },
  {
   "cell_type": "code",
   "execution_count": 93,
   "id": "7a612fea",
   "metadata": {},
   "outputs": [
    {
     "data": {
      "image/png": "[encoded data removed]",
      "text/plain": [
       "<Figure size 1400x800 with 1 Axes>"
      ]
     },
     "metadata": {},
     "output_type": "display_data"
    }
   ],
   "source": [
    "\n",
    "import matplotlib.pyplot as plt\n",
    "\n",
    "# set width of bar\n",
    "barWidth = 0.25\n",
    "fig = plt.subplots(figsize =(14, 8))\n",
    "\n",
    "# set height of bar\n",
    "test_accuracy = [rf_test, dtree_test, model_GB_test,Histclf_test, bagging_test, ada_test, XGB_test, vote_test]\n",
    "train_accuracy = [rf_train, dtree_train, model_GB_train, Histclf_train, bagging_train, ada_train, XGB_train, vote_train]\n",
    "# CSE = [29, 3, 24, 25, 17]\n",
    "\n",
    "# Set position of bar on X axis\n",
    "br1 = np.arange(len(test_accuracy))\n",
    "br2 = [x + barWidth for x in br1]\n",
    "# br3 = [x + barWidth for x in br2]\n",
    "\n",
    "# Make the plot\n",
    "plt.bar(br1, test_accuracy, color ='r', width = barWidth,\n",
    "\t\tedgecolor ='grey', label ='test_accuracy')\n",
    "plt.bar(br2, train_accuracy, color ='g', width = barWidth,\n",
    "\t\tedgecolor ='grey', label ='train_accuracy')\n",
    "# plt.bar(br3, CSE, color ='b', width = barWidth,\n",
    "# \t\tedgecolor ='grey', label ='CSE')\n",
    "\n",
    "# Adding Xticks\n",
    "plt.xlabel('Models', fontweight ='bold', fontsize = 15)\n",
    "plt.ylabel('Accuracy', fontweight ='bold', fontsize = 15)\n",
    "plt.xticks([r + barWidth for r in range(len(test_accuracy))],\n",
    "\t\t['Random Forest', 'Decision Tree', 'Gradient Boost', 'Hist Gradient Boost', 'Bagging', 'Ada Boost', ' XG Boost', 'Voting'])\n",
    "# plt.set_xticklabels(plt.get_xticklabels(), rotation=90)\n",
    "\n",
    "plt.legend()\n",
    "plt.show()\n"
   ]
  },
  {
   "cell_type": "code",
   "execution_count": 94,
   "id": "63e08b02",
   "metadata": {},
   "outputs": [],
   "source": [
    "# from catboost import CatBoostClassifier\n",
    "# cat_model = CatBoostClassifier(learning_rate=1)\n",
    "# # Fit model\n",
    "# cat_model.fit(X,y)"
   ]
  },
  {
   "cell_type": "code",
   "execution_count": 95,
   "id": "6873866a",
   "metadata": {},
   "outputs": [],
   "source": [
    "# cat_model.score(X_train,y_train)"
   ]
  },
  {
   "cell_type": "code",
   "execution_count": 96,
   "id": "35f81372",
   "metadata": {},
   "outputs": [],
   "source": [
    "# from sklearn.svm import SVC\n",
    "# sv=SVC(kernel=\"poly\",gamma=1.0,C=1,degree=3)\n",
    "# sv.fit(X,y)"
   ]
  },
  {
   "cell_type": "code",
   "execution_count": 97,
   "id": "208a1879",
   "metadata": {},
   "outputs": [],
   "source": [
    "# print(accuracy_score(y_test,sv.predict(X_test)))"
   ]
  },
  {
   "cell_type": "code",
   "execution_count": 98,
   "id": "52c0634b",
   "metadata": {},
   "outputs": [],
   "source": [
    "# from numpy.random import normal\n",
    "# from scipy.stats import mode"
   ]
  },
  {
   "cell_type": "code",
   "execution_count": 99,
   "id": "2c43e854",
   "metadata": {},
   "outputs": [],
   "source": [
    "# GB = MultinomialNB() \n",
    "# GB.fit(X_train, y_train)\n",
    "# # get_score(rf,X_train,X_test,y_train,y_test)\n",
    "# score = GB.score(X_train, y_train)\n",
    "# score2 = GB.score(X_test, y_test)\n",
    "# print(\"Training set accuracy: \", '%.3f'%(score)) \n",
    "# print(\"Test set accuracy: \", '%.3f'%(score2))"
   ]
  },
  {
   "cell_type": "code",
   "execution_count": 100,
   "id": "bc6e9566",
   "metadata": {},
   "outputs": [
    {
     "name": "stdout",
     "output_type": "stream",
     "text": [
      "0.026000499725341797\n"
     ]
    },
    {
     "name": "stderr",
     "output_type": "stream",
     "text": [
      "c:\\users\\arnab\\appdata\\local\\programs\\python\\python39\\lib\\site-packages\\sklearn\\neighbors\\_classification.py:200: DataConversionWarning: A column-vector y was passed when a 1d array was expected. Please change the shape of y to (n_samples,), for example using ravel().\n",
      "  return self._fit(X, y)\n"
     ]
    }
   ],
   "source": [
    "begin = time.time()\n",
    "classifier= KNeighborsClassifier(n_neighbors=2)  \n",
    "classifier.fit(X,y)\n",
    "end = time.time()\n",
    "print(end-begin)\n",
    "# score = classifier.score(X_train, y_train)\n",
    "# score2 = classifier.score(X_test, y_test)\n",
    "# print(\"Training set accuracy: \", '%.3f'%(score)) \n",
    "# print(\"Test set accuracy: \", '%.3f'%(score2))"
   ]
  },
  {
   "cell_type": "code",
   "execution_count": 101,
   "id": "0e530165",
   "metadata": {},
   "outputs": [
    {
     "name": "stdout",
     "output_type": "stream",
     "text": [
      "0.7208480565371025\n"
     ]
    }
   ],
   "source": [
    "print(accuracy_score(y_test,classifier.predict(X_test)))"
   ]
  },
  {
   "cell_type": "code",
   "execution_count": 102,
   "id": "f35682b4",
   "metadata": {},
   "outputs": [
    {
     "name": "stdout",
     "output_type": "stream",
     "text": [
      "0.6925795053003534\n"
     ]
    }
   ],
   "source": [
    "print(accuracy_score(y_train,classifier.predict(X_train)))"
   ]
  },
  {
   "cell_type": "code",
   "execution_count": 103,
   "id": "4672d196",
   "metadata": {},
   "outputs": [],
   "source": [
    "#  # \"Support vector classifier\"  \n",
    "# classifier_svc = SVC(kernel='linear', random_state=1)  \n",
    "# classifier_svc.fit(X_train, y_train)\n",
    "# score = classifier_svc.score(X_train, y_train)\n",
    "# score2 = classifier_svc.score(X_test, y_test)\n",
    "# print(\"Training set accuracy: \", '%.3f'%(score)) \n",
    "# print(\"Test set accuracy: \", '%.3f'%(score2))"
   ]
  },
  {
   "cell_type": "code",
   "execution_count": 104,
   "id": "75404c44",
   "metadata": {},
   "outputs": [],
   "source": [
    "# LR = LogisticRegression(random_state=1) \n",
    "# LR.fit(X_train, y_train)\n",
    "# # get_score(rf,X_train,X_test,y_train,y_test)\n",
    "# score = LR.score(X_train, y_train)\n",
    "# score2 = LR.score(X_test, y_test)\n",
    "# print(\"Training set accuracy: \", '%.3f'%(score)) \n",
    "# print(\"Test set accuracy: \", '%.3f'%(score2))"
   ]
  },
  {
   "cell_type": "code",
   "execution_count": 105,
   "id": "a1814ae1",
   "metadata": {},
   "outputs": [],
   "source": [
    "#adding ICC rankings\n",
    "#the team which is positioned higher on the ICC Ranking will be considered \"favourite\" for the match\n",
    "#and therefore, will be positioned under the \"Team_1\" column\n",
    "\n",
    "# Loading new datasets\n",
    "ranking = pd.read_csv('icc_rankings.csv') \n",
    "fixtures = pd.read_csv('fixtures.csv')\n",
    "\n",
    "# List for storing the group stage games\n",
    "pred_set = []"
   ]
  },
  {
   "cell_type": "code",
   "execution_count": 106,
   "id": "0b3476d3",
   "metadata": {},
   "outputs": [],
   "source": [
    "# fixtures.insert(1, 'first_position', fixtures['Team_1'].map(ranking.set_index('Team')['Position']))\n",
    "# fixtures.insert(2, 'second_position', fixtures['Team_2'].map(ranking.set_index('Team')['Position']))\n"
   ]
  },
  {
   "cell_type": "code",
   "execution_count": 107,
   "id": "9a651cfb",
   "metadata": {},
   "outputs": [
    {
     "data": {
      "text/html": [
       "<div>\n",
       "<style scoped>\n",
       "    .dataframe tbody tr th:only-of-type {\n",
       "        vertical-align: middle;\n",
       "    }\n",
       "\n",
       "    .dataframe tbody tr th {\n",
       "        vertical-align: top;\n",
       "    }\n",
       "\n",
       "    .dataframe thead th {\n",
       "        text-align: right;\n",
       "    }\n",
       "</style>\n",
       "<table border=\"1\" class=\"dataframe\">\n",
       "  <thead>\n",
       "    <tr style=\"text-align: right;\">\n",
       "      <th></th>\n",
       "      <th>Position</th>\n",
       "      <th>Team</th>\n",
       "      <th>Points</th>\n",
       "    </tr>\n",
       "  </thead>\n",
       "  <tbody>\n",
       "    <tr>\n",
       "      <th>0</th>\n",
       "      <td>1</td>\n",
       "      <td>India</td>\n",
       "      <td>14,760</td>\n",
       "    </tr>\n",
       "    <tr>\n",
       "      <th>1</th>\n",
       "      <td>2</td>\n",
       "      <td>England</td>\n",
       "      <td>11,063\\t</td>\n",
       "    </tr>\n",
       "    <tr>\n",
       "      <th>2</th>\n",
       "      <td>3</td>\n",
       "      <td>Pakistan</td>\n",
       "      <td>12,415\\t</td>\n",
       "    </tr>\n",
       "    <tr>\n",
       "      <th>3</th>\n",
       "      <td>4</td>\n",
       "      <td>South Africa</td>\n",
       "      <td>9,544\\t</td>\n",
       "    </tr>\n",
       "    <tr>\n",
       "      <th>4</th>\n",
       "      <td>5</td>\n",
       "      <td>New Zealand</td>\n",
       "      <td>10,865\\t</td>\n",
       "    </tr>\n",
       "    <tr>\n",
       "      <th>5</th>\n",
       "      <td>6</td>\n",
       "      <td>Australia</td>\n",
       "      <td>10,554\\t</td>\n",
       "    </tr>\n",
       "    <tr>\n",
       "      <th>6</th>\n",
       "      <td>8</td>\n",
       "      <td>Sri Lanka\\t</td>\n",
       "      <td>9,964</td>\n",
       "    </tr>\n",
       "    <tr>\n",
       "      <th>7</th>\n",
       "      <td>9</td>\n",
       "      <td>Bangladesh\\t</td>\n",
       "      <td>10,220\\t</td>\n",
       "    </tr>\n",
       "    <tr>\n",
       "      <th>8</th>\n",
       "      <td>10</td>\n",
       "      <td>Afghanistan\\t</td>\n",
       "      <td>5,919\\t</td>\n",
       "    </tr>\n",
       "    <tr>\n",
       "      <th>9</th>\n",
       "      <td>11</td>\n",
       "      <td>Zimbabwe\\t</td>\n",
       "      <td>7,555\\t</td>\n",
       "    </tr>\n",
       "    <tr>\n",
       "      <th>10</th>\n",
       "      <td>12</td>\n",
       "      <td>Ireland</td>\n",
       "      <td>8,805\\t</td>\n",
       "    </tr>\n",
       "    <tr>\n",
       "      <th>11</th>\n",
       "      <td>16</td>\n",
       "      <td>Netherlands</td>\n",
       "      <td>4,036</td>\n",
       "    </tr>\n",
       "  </tbody>\n",
       "</table>\n",
       "</div>"
      ],
      "text/plain": [
       "    Position           Team    Points\n",
       "0          1         India     14,760\n",
       "1          2        England  11,063\\t\n",
       "2          3       Pakistan  12,415\\t\n",
       "3          4   South Africa   9,544\\t\n",
       "4          5    New Zealand  10,865\\t\n",
       "5          6      Australia  10,554\\t\n",
       "6          8    Sri Lanka\\t     9,964\n",
       "7          9   Bangladesh\\t  10,220\\t\n",
       "8         10  Afghanistan\\t   5,919\\t\n",
       "9         11     Zimbabwe\\t   7,555\\t\n",
       "10        12       Ireland    8,805\\t\n",
       "11        16    Netherlands     4,036"
      ]
     },
     "execution_count": 107,
     "metadata": {},
     "output_type": "execute_result"
    }
   ],
   "source": [
    "ranking1=ranking\n",
    "ranking1"
   ]
  },
  {
   "cell_type": "code",
   "execution_count": 108,
   "id": "3caaede9",
   "metadata": {},
   "outputs": [],
   "source": [
    "#ranking_team=[]\n",
    "\"\"\"\n",
    "for i in ranking[\"Team\"]:\n",
    "    \n",
    "    s_name=unique_name_final_val.index(i)\n",
    "    ranking_team.append(s_name)\n",
    "ranking_team\n",
    "\"\"\"\n",
    "for i in range(len(unique_name_final_val)):\n",
    "    unique_name_final_val[i]=unique_name_final_val[i].replace(\" \",\"\")\n",
    "# fixtures = fixtures.iloc[:42, :]\n",
    "# fixtures.tail()\n",
    "ranking.replace(to_replace=[r\"\\\\t|\\\\n|\\\\r\", \"\\t|\\n|\\r\"], value=[\" \",\"\"], regex=True, inplace=True)"
   ]
  },
  {
   "cell_type": "code",
   "execution_count": 109,
   "id": "1279edc2",
   "metadata": {},
   "outputs": [
    {
     "data": {
      "text/plain": [
       "['India',\n",
       " 'England',\n",
       " 'Pakistan',\n",
       " 'SouthAfrica',\n",
       " 'NewZealand',\n",
       " 'Australia',\n",
       " 'SriLanka',\n",
       " 'Bangladesh',\n",
       " 'Afghanistan',\n",
       " 'Zimbabwe',\n",
       " 'Ireland',\n",
       " 'Netherlands']"
      ]
     },
     "execution_count": 109,
     "metadata": {},
     "output_type": "execute_result"
    }
   ],
   "source": [
    "ranking_list=[]\n",
    "for i in ranking[\"Team\"]:\n",
    "    ranking_list.append(i.replace(\" \",\"\"))\n",
    "ranking_list"
   ]
  },
  {
   "cell_type": "code",
   "execution_count": 110,
   "id": "5228acf9",
   "metadata": {},
   "outputs": [
    {
     "data": {
      "text/html": [
       "<div>\n",
       "<style scoped>\n",
       "    .dataframe tbody tr th:only-of-type {\n",
       "        vertical-align: middle;\n",
       "    }\n",
       "\n",
       "    .dataframe tbody tr th {\n",
       "        vertical-align: top;\n",
       "    }\n",
       "\n",
       "    .dataframe thead th {\n",
       "        text-align: right;\n",
       "    }\n",
       "</style>\n",
       "<table border=\"1\" class=\"dataframe\">\n",
       "  <thead>\n",
       "    <tr style=\"text-align: right;\">\n",
       "      <th></th>\n",
       "      <th>Position</th>\n",
       "      <th>Team</th>\n",
       "      <th>Points</th>\n",
       "    </tr>\n",
       "  </thead>\n",
       "  <tbody>\n",
       "    <tr>\n",
       "      <th>0</th>\n",
       "      <td>1</td>\n",
       "      <td>India</td>\n",
       "      <td>14,760</td>\n",
       "    </tr>\n",
       "    <tr>\n",
       "      <th>1</th>\n",
       "      <td>2</td>\n",
       "      <td>England</td>\n",
       "      <td>11,063</td>\n",
       "    </tr>\n",
       "    <tr>\n",
       "      <th>2</th>\n",
       "      <td>3</td>\n",
       "      <td>Pakistan</td>\n",
       "      <td>12,415</td>\n",
       "    </tr>\n",
       "    <tr>\n",
       "      <th>3</th>\n",
       "      <td>4</td>\n",
       "      <td>South Africa</td>\n",
       "      <td>9,544</td>\n",
       "    </tr>\n",
       "    <tr>\n",
       "      <th>4</th>\n",
       "      <td>5</td>\n",
       "      <td>New Zealand</td>\n",
       "      <td>10,865</td>\n",
       "    </tr>\n",
       "    <tr>\n",
       "      <th>5</th>\n",
       "      <td>6</td>\n",
       "      <td>Australia</td>\n",
       "      <td>10,554</td>\n",
       "    </tr>\n",
       "    <tr>\n",
       "      <th>6</th>\n",
       "      <td>8</td>\n",
       "      <td>Sri Lanka</td>\n",
       "      <td>9,964</td>\n",
       "    </tr>\n",
       "    <tr>\n",
       "      <th>7</th>\n",
       "      <td>9</td>\n",
       "      <td>Bangladesh</td>\n",
       "      <td>10,220</td>\n",
       "    </tr>\n",
       "    <tr>\n",
       "      <th>8</th>\n",
       "      <td>10</td>\n",
       "      <td>Afghanistan</td>\n",
       "      <td>5,919</td>\n",
       "    </tr>\n",
       "    <tr>\n",
       "      <th>9</th>\n",
       "      <td>11</td>\n",
       "      <td>Zimbabwe</td>\n",
       "      <td>7,555</td>\n",
       "    </tr>\n",
       "    <tr>\n",
       "      <th>10</th>\n",
       "      <td>12</td>\n",
       "      <td>Ireland</td>\n",
       "      <td>8,805</td>\n",
       "    </tr>\n",
       "    <tr>\n",
       "      <th>11</th>\n",
       "      <td>16</td>\n",
       "      <td>Netherlands</td>\n",
       "      <td>4,036</td>\n",
       "    </tr>\n",
       "  </tbody>\n",
       "</table>\n",
       "</div>"
      ],
      "text/plain": [
       "    Position          Team  Points\n",
       "0          1        India   14,760\n",
       "1          2       England  11,063\n",
       "2          3      Pakistan  12,415\n",
       "3          4  South Africa   9,544\n",
       "4          5   New Zealand  10,865\n",
       "5          6     Australia  10,554\n",
       "6          8     Sri Lanka   9,964\n",
       "7          9    Bangladesh  10,220\n",
       "8         10   Afghanistan   5,919\n",
       "9         11      Zimbabwe   7,555\n",
       "10        12      Ireland    8,805\n",
       "11        16   Netherlands   4,036"
      ]
     },
     "execution_count": 110,
     "metadata": {},
     "output_type": "execute_result"
    }
   ],
   "source": [
    "\n",
    "# ranking1.drop([12], inplace = True)\n",
    "ranking1"
   ]
  },
  {
   "cell_type": "code",
   "execution_count": 111,
   "id": "ff1b5373",
   "metadata": {},
   "outputs": [
    {
     "data": {
      "text/plain": [
       "12"
      ]
     },
     "execution_count": 111,
     "metadata": {},
     "output_type": "execute_result"
    }
   ],
   "source": [
    "len(ranking_list)"
   ]
  },
  {
   "cell_type": "code",
   "execution_count": 112,
   "id": "ae190280",
   "metadata": {},
   "outputs": [
    {
     "data": {
      "text/plain": [
       "[8, 5, 2, 0, 1, 7, 6, 4, 14, 3, 11, 9]"
      ]
     },
     "execution_count": 112,
     "metadata": {},
     "output_type": "execute_result"
    }
   ],
   "source": [
    "ranking_team=[]\n",
    "for i in ranking_list:\n",
    "    if i!=\"UAE\":\n",
    "        s_name=unique_name_final_val.index(i)\n",
    "        ranking_team.append(s_name)\n",
    "ranking_team"
   ]
  },
  {
   "cell_type": "code",
   "execution_count": 113,
   "id": "af66153c",
   "metadata": {},
   "outputs": [
    {
     "data": {
      "text/plain": [
       "12"
      ]
     },
     "execution_count": 113,
     "metadata": {},
     "output_type": "execute_result"
    }
   ],
   "source": [
    "len(ranking_team)"
   ]
  },
  {
   "cell_type": "code",
   "execution_count": 114,
   "id": "b05919ab",
   "metadata": {},
   "outputs": [],
   "source": [
    "ranking1[\"Team\"]=ranking_team"
   ]
  },
  {
   "cell_type": "code",
   "execution_count": 115,
   "id": "32d52b14",
   "metadata": {},
   "outputs": [
    {
     "data": {
      "text/html": [
       "<div>\n",
       "<style scoped>\n",
       "    .dataframe tbody tr th:only-of-type {\n",
       "        vertical-align: middle;\n",
       "    }\n",
       "\n",
       "    .dataframe tbody tr th {\n",
       "        vertical-align: top;\n",
       "    }\n",
       "\n",
       "    .dataframe thead th {\n",
       "        text-align: right;\n",
       "    }\n",
       "</style>\n",
       "<table border=\"1\" class=\"dataframe\">\n",
       "  <thead>\n",
       "    <tr style=\"text-align: right;\">\n",
       "      <th></th>\n",
       "      <th>Position</th>\n",
       "      <th>Team</th>\n",
       "      <th>Points</th>\n",
       "    </tr>\n",
       "  </thead>\n",
       "  <tbody>\n",
       "    <tr>\n",
       "      <th>0</th>\n",
       "      <td>1</td>\n",
       "      <td>8</td>\n",
       "      <td>14,760</td>\n",
       "    </tr>\n",
       "    <tr>\n",
       "      <th>1</th>\n",
       "      <td>2</td>\n",
       "      <td>5</td>\n",
       "      <td>11,063</td>\n",
       "    </tr>\n",
       "    <tr>\n",
       "      <th>2</th>\n",
       "      <td>3</td>\n",
       "      <td>2</td>\n",
       "      <td>12,415</td>\n",
       "    </tr>\n",
       "    <tr>\n",
       "      <th>3</th>\n",
       "      <td>4</td>\n",
       "      <td>0</td>\n",
       "      <td>9,544</td>\n",
       "    </tr>\n",
       "    <tr>\n",
       "      <th>4</th>\n",
       "      <td>5</td>\n",
       "      <td>1</td>\n",
       "      <td>10,865</td>\n",
       "    </tr>\n",
       "    <tr>\n",
       "      <th>5</th>\n",
       "      <td>6</td>\n",
       "      <td>7</td>\n",
       "      <td>10,554</td>\n",
       "    </tr>\n",
       "    <tr>\n",
       "      <th>6</th>\n",
       "      <td>8</td>\n",
       "      <td>6</td>\n",
       "      <td>9,964</td>\n",
       "    </tr>\n",
       "    <tr>\n",
       "      <th>7</th>\n",
       "      <td>9</td>\n",
       "      <td>4</td>\n",
       "      <td>10,220</td>\n",
       "    </tr>\n",
       "    <tr>\n",
       "      <th>8</th>\n",
       "      <td>10</td>\n",
       "      <td>14</td>\n",
       "      <td>5,919</td>\n",
       "    </tr>\n",
       "    <tr>\n",
       "      <th>9</th>\n",
       "      <td>11</td>\n",
       "      <td>3</td>\n",
       "      <td>7,555</td>\n",
       "    </tr>\n",
       "    <tr>\n",
       "      <th>10</th>\n",
       "      <td>12</td>\n",
       "      <td>11</td>\n",
       "      <td>8,805</td>\n",
       "    </tr>\n",
       "    <tr>\n",
       "      <th>11</th>\n",
       "      <td>16</td>\n",
       "      <td>9</td>\n",
       "      <td>4,036</td>\n",
       "    </tr>\n",
       "  </tbody>\n",
       "</table>\n",
       "</div>"
      ],
      "text/plain": [
       "    Position  Team  Points\n",
       "0          1     8  14,760\n",
       "1          2     5  11,063\n",
       "2          3     2  12,415\n",
       "3          4     0   9,544\n",
       "4          5     1  10,865\n",
       "5          6     7  10,554\n",
       "6          8     6   9,964\n",
       "7          9     4  10,220\n",
       "8         10    14   5,919\n",
       "9         11     3   7,555\n",
       "10        12    11   8,805\n",
       "11        16     9   4,036"
      ]
     },
     "execution_count": 115,
     "metadata": {},
     "output_type": "execute_result"
    }
   ],
   "source": [
    "ranking1"
   ]
  },
  {
   "cell_type": "code",
   "execution_count": 116,
   "id": "c02cddaf",
   "metadata": {},
   "outputs": [],
   "source": [
    "# fixtures.isnull().sum()"
   ]
  },
  {
   "cell_type": "code",
   "execution_count": 117,
   "id": "cdf1d84f",
   "metadata": {},
   "outputs": [],
   "source": [
    "# ranking"
   ]
  },
  {
   "cell_type": "code",
   "execution_count": 118,
   "id": "47280747",
   "metadata": {},
   "outputs": [],
   "source": [
    "# ranking.replace(to_replace=[r\"\\\\t|\\\\n|\\\\r\", \"\\t|\\n|\\r\"], value=[\"\",\"\"], regex=True, inplace=True)\n"
   ]
  },
  {
   "cell_type": "code",
   "execution_count": 119,
   "id": "7e6fdc32",
   "metadata": {},
   "outputs": [],
   "source": [
    "# ranking"
   ]
  },
  {
   "cell_type": "code",
   "execution_count": null,
   "id": "67ab076b",
   "metadata": {},
   "outputs": [],
   "source": []
  },
  {
   "cell_type": "code",
   "execution_count": 120,
   "id": "af5fdcd2",
   "metadata": {},
   "outputs": [],
   "source": [
    "# fixtures.replace(to_replace=[r\"\\\\t|\\\\n|\\\\r\", \"\\t|\\n|\\r\"], value=[\"\",\"\"], regex=True, inplace=True)"
   ]
  },
  {
   "cell_type": "code",
   "execution_count": 121,
   "id": "24abcd08",
   "metadata": {},
   "outputs": [],
   "source": [
    "# fixtures['Team_1'].unique()"
   ]
  },
  {
   "cell_type": "code",
   "execution_count": 122,
   "id": "28664f22",
   "metadata": {},
   "outputs": [],
   "source": [
    "# fixtures['Team_2'].unique()"
   ]
  },
  {
   "cell_type": "code",
   "execution_count": 123,
   "id": "7af91c18",
   "metadata": {},
   "outputs": [],
   "source": [
    "# # for i in fixtures['Team_1']:\n",
    "# fixtures['Team_1'] = fixtures['Team_1'].str.strip()\n",
    "# fixtures['Team_2'] = fixtures['Team_2'].str.strip()\n",
    "# ranking['Team'] = ranking['Team'].str.strip()"
   ]
  },
  {
   "cell_type": "code",
   "execution_count": 124,
   "id": "ec745e76",
   "metadata": {},
   "outputs": [],
   "source": [
    "\n",
    "# fixtures.insert(1, 'first_position', fixtures['Team_1'].map(ranking.set_index('Team')['Position']))\n",
    "# fixtures.insert(2, 'second_position', fixtures['Team_2'].map(ranking.set_index('Team')['Position']))"
   ]
  },
  {
   "cell_type": "code",
   "execution_count": 125,
   "id": "7799617a",
   "metadata": {},
   "outputs": [],
   "source": [
    "# fixtures.isnull().sum()"
   ]
  },
  {
   "cell_type": "code",
   "execution_count": 126,
   "id": "6ec4774a",
   "metadata": {},
   "outputs": [],
   "source": [
    "# fixtures"
   ]
  },
  {
   "cell_type": "code",
   "execution_count": 127,
   "id": "49640167",
   "metadata": {},
   "outputs": [],
   "source": [
    "# fixtures = fixtures.iloc[:42, :]\n",
    "# fixtures.tail()"
   ]
  },
  {
   "cell_type": "code",
   "execution_count": 128,
   "id": "26820fc8",
   "metadata": {},
   "outputs": [],
   "source": [
    "# fixtures"
   ]
  },
  {
   "cell_type": "code",
   "execution_count": 129,
   "id": "ec134c84",
   "metadata": {},
   "outputs": [],
   "source": [
    "# for index, row in fixtures.iterrows():\n",
    "#     if row['first_position'] < row['second_position']:\n",
    "#         pred_set.append({'Team_1': row['Team_1'], 'Team_2': row['Team_2'], 'winning_team': None})\n",
    "#     else:\n",
    "#         pred_set.append({'Team_1': row['Team_2'], 'Team_2': row['Team_1'], 'winning_team': None})\n",
    "        \n",
    "# pred_set = pd.DataFrame(pred_set)\n",
    "# backup_pred_set = pred_set\n",
    "# pred_set.head()"
   ]
  },
  {
   "cell_type": "markdown",
   "id": "0fa2c385",
   "metadata": {},
   "source": [
    "prediction"
   ]
  },
  {
   "cell_type": "code",
   "execution_count": 130,
   "id": "b9743c00",
   "metadata": {},
   "outputs": [],
   "source": [
    "# features1_pred=pred_set.loc[:,\"Team_1\"]\n",
    "# features2_pred=pred_set.loc[:,\"Team_2\"]"
   ]
  },
  {
   "cell_type": "code",
   "execution_count": 131,
   "id": "b62f36e3",
   "metadata": {},
   "outputs": [],
   "source": [
    "# lb=LabelEncoder()\n",
    "# features1_pred=lb.fit_transform(features1_pred)\n",
    "# print(len(features1_pred))"
   ]
  },
  {
   "cell_type": "code",
   "execution_count": 132,
   "id": "a9cf9a95",
   "metadata": {},
   "outputs": [],
   "source": [
    "# lb=LabelEncoder()\n",
    "# features2_pred=lb.fit_transform(features2_pred)\n",
    "# print(len(features2_pred))"
   ]
  },
  {
   "cell_type": "code",
   "execution_count": 133,
   "id": "15e265c0",
   "metadata": {},
   "outputs": [],
   "source": [
    "# ex_pred=[]\n",
    "# ex1_pred=[]\n",
    "# for i in range(len(features1_pred)):\n",
    "#     ex_pred=[]\n",
    "#     ex_pred.append(features1_pred[i])\n",
    "#     ex_pred.append(features2_pred[i])\n",
    "#     ex1_pred.append(ex_pred)\n"
   ]
  },
  {
   "cell_type": "markdown",
   "id": "c8a22e3c",
   "metadata": {},
   "source": [
    "converting into string"
   ]
  },
  {
   "cell_type": "code",
   "execution_count": 134,
   "id": "6ba75e66",
   "metadata": {},
   "outputs": [],
   "source": [
    "# print(len(ex1_pred))"
   ]
  },
  {
   "cell_type": "code",
   "execution_count": 135,
   "id": "e6cc8ecc",
   "metadata": {},
   "outputs": [],
   "source": [
    "# m1=set(class_value_not)"
   ]
  },
  {
   "cell_type": "code",
   "execution_count": 136,
   "id": "7e30dbde",
   "metadata": {},
   "outputs": [],
   "source": [
    "# m1=list(m1)"
   ]
  },
  {
   "cell_type": "code",
   "execution_count": 137,
   "id": "3fe18620",
   "metadata": {},
   "outputs": [],
   "source": [
    "# pr=rf.predict(ex1_pred)\n",
    "# # for i in pr:\n",
    "#     print(m1[i])"
   ]
  },
  {
   "cell_type": "code",
   "execution_count": 138,
   "id": "621b0fd1",
   "metadata": {},
   "outputs": [],
   "source": [
    "# Get dummy variables and drop winning_team column\n",
    "# pred_set = pd.get_dummies(pred_set, prefix=['Team_1', 'Team_2'], columns=['Team_1', 'Team_2'])\n",
    "\n",
    "# # Add missing columns compared to the model's training dataset\n",
    "# missing_cols = set(final.columns) - set(pred_set.columns)\n",
    "# for c in missing_cols:\n",
    "#     pred_set[c] = 0\n",
    "# pred_set = pred_set[final.columns]\n",
    "\n",
    "\n",
    "# pred_set = pred_set.drop(['Winner'], axis=1)\n",
    "# pred_set.head()"
   ]
  },
  {
   "cell_type": "code",
   "execution_count": 139,
   "id": "6cf8654d",
   "metadata": {},
   "outputs": [],
   "source": [
    "# predictions = classifier.predict(pred_set)\n",
    "# for i in range(fixtures.shape[0]):\n",
    "#     print(backup_pred_set.iloc[i, 1] + \" and \" + backup_pred_set.iloc[i, 0])\n",
    "#     if predictions[i] == 1:\n",
    "#         print(\"Winner: \" + backup_pred_set.iloc[i, 1])\n",
    "    \n",
    "#     else:\n",
    "#         print(\"Winner: \" + backup_pred_set.iloc[i, 0])\n",
    "#     print(\"\")"
   ]
  },
  {
   "cell_type": "code",
   "execution_count": 140,
   "id": "4378d27b",
   "metadata": {},
   "outputs": [],
   "source": [
    "#group matches \n",
    "# predictions = rf.predict(ex1_pred)\n",
    "# ctr = 0\n",
    "# winner = []\n",
    "# for i in range(fixtures.shape[0]):\n",
    "#     print(backup_pred_set.iloc[i, 1] + \" and \" + backup_pred_set.iloc[i, 0])\n",
    "#     if predictions[i] == 1:\n",
    "#         team =  backup_pred_set.iloc[i, 1]\n",
    "#         print(\"Winner: \" + backup_pred_set.iloc[i, 1])\n",
    "#         winner.append(team)\n",
    "# #         ctr = winn[team]\n",
    "# #         winn[team] = ctr + 1\n",
    "#     else:\n",
    "#         print(\"Winner: \" + backup_pred_set.iloc[i, 0])\n",
    "#         winner.append(backup_pred_set.iloc[i, 0])\n",
    "#     print(\"\")"
   ]
  },
  {
   "cell_type": "code",
   "execution_count": 141,
   "id": "bed40416",
   "metadata": {},
   "outputs": [],
   "source": [
    "# winner"
   ]
  },
  {
   "cell_type": "code",
   "execution_count": 142,
   "id": "f800c775",
   "metadata": {},
   "outputs": [],
   "source": [
    "# worldcup_teams = ['England', 'South Africa', 'Netherlands', 'Zimbabwe','Pakistan', 'New Zealand', 'Sri Lanka', 'Afghanistan','Australia', 'Bangladesh', 'India', 'Ireland']"
   ]
  },
  {
   "cell_type": "code",
   "execution_count": 143,
   "id": "ef9a3ebf",
   "metadata": {},
   "outputs": [],
   "source": [
    "# dct = {}\n",
    "# for i in worldcup_teams:\n",
    "#     ctr = winner.count(i)\n",
    "#     dct[i] = ctr\n",
    "\n",
    "# dct"
   ]
  },
  {
   "cell_type": "code",
   "execution_count": 144,
   "id": "96aede5d",
   "metadata": {},
   "outputs": [],
   "source": [
    "# ranking\n",
    "\n",
    "# from collections import OrderedDict\n",
    "# lst = OrderedDict(sorted(dct.items()))\n",
    "\n",
    "# # for i in dct:\n",
    "# lst   \n",
    "# sorted_value_index = np.argsort(dct.values())\n",
    "# dictionary_keys = list(dct.keys())\n",
    "# sorted_dict = {dictionary_keys[i]: sorted(\n",
    "#     dct.values())[i] for i in range(len(dictionary_keys))}\n",
    "\n",
    "# print(sorted_dict)\n",
    "# res = OrderedDict(reversed(list(sorted_dict.items())))\n",
    "# res\n",
    "# import itertools\n",
    "# res = dict(itertools.islice(res.items(), 4))\n",
    "\n",
    "# res\n",
    "\n",
    "# res = dict(reversed(list(sorted_dict.items())))\n",
    "# print(res)"
   ]
  },
  {
   "cell_type": "code",
   "execution_count": null,
   "id": "415ba552",
   "metadata": {},
   "outputs": [],
   "source": []
  },
  {
   "cell_type": "code",
   "execution_count": 145,
   "id": "bbdbc899",
   "metadata": {},
   "outputs": [],
   "source": [
    "# from collections import OrderedDict\n",
    " \n",
    "# dict = {'ravi': '10', 'rajnish': '9',\n",
    "#         'sanjeev': '15', 'yash': '2', 'suraj': '32'}\n",
    "# dict1 = OrderedDict(sorted(dct.items()))\n",
    "# print(dict1)"
   ]
  },
  {
   "cell_type": "code",
   "execution_count": 146,
   "id": "5d81abee",
   "metadata": {},
   "outputs": [],
   "source": [
    "# dict1 = {1: 1, 2: 9, 3: 4}\n",
    "# sorted_values = sorted(dct.values(),reverse=True) # Sort the values\n",
    "# sorted_dict = {}\n",
    "\n",
    "# for i in sorted_values:\n",
    "#     for k in dct.keys():\n",
    "#         if dct[k] == i:\n",
    "#             sorted_dict[k] = dct[k]\n",
    "\n",
    "# print(sorted_dict)"
   ]
  },
  {
   "cell_type": "code",
   "execution_count": 147,
   "id": "2f90956e",
   "metadata": {},
   "outputs": [],
   "source": [
    "# import itertools\n",
    "# res = dict(itertools.islice(sorted_dict.items(), 4))\n",
    "# res"
   ]
  },
  {
   "cell_type": "code",
   "execution_count": 148,
   "id": "45b7342d",
   "metadata": {},
   "outputs": [],
   "source": [
    "# semi = []\n",
    "# for i in res.keys():\n",
    "#     semi.append(i)\n",
    "# semi\n"
   ]
  },
  {
   "cell_type": "code",
   "execution_count": 149,
   "id": "90eb926a",
   "metadata": {},
   "outputs": [],
   "source": [
    "# final_semi = [('India', 'England'),('Sri Lanka','Pakistan')]"
   ]
  },
  {
   "cell_type": "code",
   "execution_count": 150,
   "id": "664a5702",
   "metadata": {},
   "outputs": [],
   "source": [
    "# india=unique_name_final_val.index(\"India\")\n",
    "# pakistan=unique_name_final_val.index(\"Pakistan\")\n",
    "# England=unique_name_final_val.index(\"England\")\n",
    "# Srilanka=unique_name_final_val.index(\"Srilanka\")"
   ]
  },
  {
   "cell_type": "code",
   "execution_count": 151,
   "id": "f95d3d04",
   "metadata": {},
   "outputs": [],
   "source": [
    "# clean_and_predict(semi, ranking, final, rf)\n",
    "# final_semi=[(india,England),(Srilanka,pakistan)]"
   ]
  },
  {
   "cell_type": "code",
   "execution_count": 152,
   "id": "d7cb010f",
   "metadata": {},
   "outputs": [],
   "source": [
    "# ranking"
   ]
  },
  {
   "cell_type": "code",
   "execution_count": 153,
   "id": "0f8da916",
   "metadata": {},
   "outputs": [],
   "source": [
    "# new_dict= {}\n",
    "# for i in semi:\n",
    "#     new_dict[i] = ranking[Team]('Postion')"
   ]
  },
  {
   "cell_type": "code",
   "execution_count": 154,
   "id": "df06465b",
   "metadata": {},
   "outputs": [],
   "source": [
    "# dicti = {}\n",
    "# for i in semi:\n",
    "#     select = ranking.loc[ranking['Team'] == i]\n",
    "# #     print(select)\n",
    "#     dicti[select[\"Position\"]] = ranking.loc[ranking['Team'] == i]\n",
    "    \n",
    "# dicti"
   ]
  },
  {
   "cell_type": "code",
   "execution_count": 155,
   "id": "64622d01",
   "metadata": {},
   "outputs": [],
   "source": [
    "# for (columnName, columnData) in ranking.iteritems():\n",
    "    \n",
    "#     print('Colunm Name : ', columnName)\n",
    "#     print('Column Contents : ', columnData.values)\n",
    "#     if(columnName==\"Position\"):\n",
    "#         d"
   ]
  },
  {
   "cell_type": "code",
   "execution_count": 156,
   "id": "c896ad4a",
   "metadata": {},
   "outputs": [],
   "source": [
    "# pred_set"
   ]
  },
  {
   "cell_type": "code",
   "execution_count": 157,
   "id": "c343999c",
   "metadata": {},
   "outputs": [],
   "source": [
    "# m=[]\n",
    "# m1=[]\n",
    "# m2=[]\n",
    "# for i in range(len(final_semi)):\n",
    "#     if final_semi[i][0] in \n"
   ]
  },
  {
   "cell_type": "code",
   "execution_count": 158,
   "id": "469e1ee8",
   "metadata": {},
   "outputs": [],
   "source": [
    "# ranking1"
   ]
  },
  {
   "cell_type": "code",
   "execution_count": 159,
   "id": "7e5758ce",
   "metadata": {},
   "outputs": [],
   "source": [
    "# def clean_and_predict(matches, ranking, final, logreg):\n",
    "\n",
    "#     # Initialization of auxiliary list for data cleaning\n",
    "#     positions = []\n",
    "\n",
    "#     # Loop to retrieve each team's position according to ICC ranking\n",
    "#     for match in matches:\n",
    "#         positions.append(ranking.loc[ranking['Team'] == match[0],'Position'].iloc[0])\n",
    "#         positions.append(ranking.loc[ranking['Team'] == match[1],'Position'].iloc[0])\n",
    "    \n",
    "#     # Creating the DataFrame for prediction\n",
    "#     pred_set = []\n",
    "\n",
    "#     # Initializing iterators for while loop\n",
    "#     i = 0\n",
    "#     j = 0\n",
    "\n",
    "#     # 'i' will be the iterator for the 'positions' list, and 'j' for the list of matches (list of tuples)\n",
    "#     while i < len(positions):\n",
    "#         dict1 = {}\n",
    "\n",
    "#         # If position of first team is better then this team will be the 'Team_1' team, and vice-versa\n",
    "#         if positions[i] < positions[i + 1]:\n",
    "#             dict1.update({'Team_1': matches[j][0], 'Team_2': matches[j][1]})\n",
    "#         else:\n",
    "#             dict1.update({'Team_1': matches[j][1], 'Team_2': matches[j][0]})\n",
    "\n",
    "#         # Append updated dictionary to the list, that will later be converted into a DataFrame\n",
    "#         pred_set.append(dict1)\n",
    "#         i += 2\n",
    "#         j += 1\n",
    "        \n",
    "#         # Convert list into DataFrame\n",
    "#     pred_set = pd.DataFrame(pred_set)\n",
    "#     backup_pred_set = pred_set\n",
    "\n",
    "#     # Get dummy variables and drop winning_team column\n",
    "#     pred_set = pd.get_dummies(pred_set, prefix=['Team_1', 'Team_2'], columns=['Team_1', 'Team_2'])\n",
    "\n",
    "#     # Add missing columns compared to the model's training dataset\n",
    "#     missing_cols2 = set(final.columns) - set(pred_set.columns)\n",
    "#     for c in missing_cols2:\n",
    "#         pred_set[c] = 0\n",
    "#     pred_set = pred_set[final.columns]\n",
    "\n",
    "#     pred_set = pred_set.drop(['Winner'], axis=1)\n",
    "#     # Predict!\n",
    "#     predictions = logreg.predict(pred_set)\n",
    "#     for i in range(len(pred_set)):\n",
    "#         print(backup_pred_set.iloc[i, 1] + \" and \" + backup_pred_set.iloc[i, 0])\n",
    "#         if predictions[i] == 1:\n",
    "#             print(\"Winner: \" + backup_pred_set.iloc[i, 1])\n",
    "#         else:\n",
    "#             print(\"Winner: \" + backup_pred_set.iloc[i, 0])\n",
    "#         print(\"\")"
   ]
  },
  {
   "cell_type": "code",
   "execution_count": 160,
   "id": "a5da3b1d",
   "metadata": {},
   "outputs": [],
   "source": [
    "# clean_and_predict(final_semi, ranking1, final_for_frame, rf)"
   ]
  },
  {
   "cell_type": "code",
   "execution_count": 161,
   "id": "38bc16e1",
   "metadata": {},
   "outputs": [],
   "source": [
    "# final_for_frame"
   ]
  },
  {
   "cell_type": "code",
   "execution_count": 162,
   "id": "557a8919",
   "metadata": {},
   "outputs": [],
   "source": [
    "# final_two_teams=final_for_frame[[\"Team_1\",\"Team_2\"]].copy()\n",
    "# final_two_teams"
   ]
  },
  {
   "cell_type": "code",
   "execution_count": 163,
   "id": "54c5c525",
   "metadata": {},
   "outputs": [],
   "source": [
    "# print(rf.predict(final_two_teams))\n",
    "# next_finals=rf.predict(final_two_teams)"
   ]
  },
  {
   "cell_type": "code",
   "execution_count": 164,
   "id": "49c427c8",
   "metadata": {},
   "outputs": [],
   "source": [
    "# next_team1=next_finals[:707]\n",
    "# next_team2=next_finals[707:1414]\n",
    "# next_team_dataframe=pd.DataFrame()\n",
    "# next_team_dataframe[\"Team_1\"]=next_team1\n",
    "# next_team_dataframe[\"Team_2\"]=next_team2\n",
    "# more_next=rf.predict(next_team_dataframe)"
   ]
  },
  {
   "cell_type": "code",
   "execution_count": 165,
   "id": "6bb44151",
   "metadata": {},
   "outputs": [],
   "source": [
    "# next_team1=more_next[:352]\n",
    "# next_team2=more_next[352:704]\n",
    "# next_team_dataframe=pd.DataFrame()\n",
    "# next_team_dataframe[\"Team_1\"]=next_team1\n",
    "# next_team_dataframe[\"Team_2\"]=next_team2\n",
    "# more_next1=rf.predict(next_team_dataframe)\n",
    "# print(len(more_next1))"
   ]
  },
  {
   "cell_type": "code",
   "execution_count": 166,
   "id": "05c9bd47",
   "metadata": {},
   "outputs": [],
   "source": [
    "# next_team1=more_next1[:176]\n",
    "# next_team2=more_next1[176:352]\n",
    "# next_team_dataframe=pd.DataFrame()\n",
    "# next_team_dataframe[\"Team_1\"]=next_team1\n",
    "# next_team_dataframe[\"Team_2\"]=next_team2\n",
    "# more_next2=rf.predict(next_team_dataframe)\n",
    "# print(len(more_next2))"
   ]
  },
  {
   "cell_type": "code",
   "execution_count": 167,
   "id": "d3e4f11d",
   "metadata": {},
   "outputs": [],
   "source": [
    "# next_team1=more_next2[:88]\n",
    "# next_team2=more_next2[88:176]\n",
    "# next_team_dataframe=pd.DataFrame()\n",
    "# next_team_dataframe[\"Team_1\"]=next_team1\n",
    "# next_team_dataframe[\"Team_2\"]=next_team2\n",
    "# more_next3=rf.predict(next_team_dataframe)\n",
    "# print(len(more_next3))"
   ]
  },
  {
   "cell_type": "code",
   "execution_count": 168,
   "id": "6060fe4b",
   "metadata": {},
   "outputs": [],
   "source": [
    "# next_team1=more_next3[:44]\n",
    "# next_team2=more_next3[44:88]\n",
    "# next_team_dataframe=pd.DataFrame()\n",
    "# next_team_dataframe[\"Team_1\"]=next_team1\n",
    "# next_team_dataframe[\"Team_2\"]=next_team2\n",
    "# more_next4=rf.predict(next_team_dataframe)\n",
    "# print(len(more_next4))"
   ]
  },
  {
   "cell_type": "code",
   "execution_count": 169,
   "id": "a193f638",
   "metadata": {},
   "outputs": [],
   "source": [
    "# next_team1=more_next4[:22]\n",
    "# next_team2=more_next4[22:44]\n",
    "# next_team_dataframe=pd.DataFrame()\n",
    "# next_team_dataframe[\"Team_1\"]=next_team1\n",
    "# next_team_dataframe[\"Team_2\"]=next_team2\n",
    "# more_next5=rf.predict(next_team_dataframe)\n",
    "# print(len(more_next5))"
   ]
  },
  {
   "cell_type": "code",
   "execution_count": 170,
   "id": "ef100d59",
   "metadata": {},
   "outputs": [],
   "source": [
    "# print(more_next5)\n",
    "# for i in more_next5:\n",
    "#     print(unique_name_final_val[i])\n",
    "    "
   ]
  },
  {
   "cell_type": "code",
   "execution_count": 171,
   "id": "96069eca",
   "metadata": {},
   "outputs": [],
   "source": [
    "# next_team1=more_next5[:11]\n",
    "# next_team2=more_next5[11:22]\n",
    "# next_team_dataframe=pd.DataFrame()\n",
    "# next_team_dataframe[\"Team_1\"]=next_team1\n",
    "# next_team_dataframe[\"Team_2\"]=next_team2\n",
    "# more_next6=rf.predict(next_team_dataframe)\n",
    "# print(len(more_next6))"
   ]
  },
  {
   "cell_type": "code",
   "execution_count": 172,
   "id": "6f8f805b",
   "metadata": {},
   "outputs": [],
   "source": [
    "# next_team1=more_next6[:5]\n",
    "# next_team2=more_next6[5:10]\n",
    "# next_team_dataframe=pd.DataFrame()\n",
    "# next_team_dataframe[\"Team_1\"]=next_team1\n",
    "# next_team_dataframe[\"Team_2\"]=next_team2\n",
    "# more_next7=rf.predict(next_team_dataframe)\n",
    "# print(len(more_next7))"
   ]
  },
  {
   "cell_type": "code",
   "execution_count": 173,
   "id": "23f5d8f4",
   "metadata": {},
   "outputs": [],
   "source": [
    "# print(more_next7)\n",
    "# unique_name_final_val[19]"
   ]
  },
  {
   "cell_type": "code",
   "execution_count": 174,
   "id": "b6607660",
   "metadata": {},
   "outputs": [],
   "source": [
    "# next_team1=more_next7[:2]\n",
    "# next_team2=more_next7[2:4]\n",
    "# next_team_dataframe=pd.DataFrame()\n",
    "# next_team_dataframe[\"Team_1\"]=next_team1\n",
    "# next_team_dataframe[\"Team_2\"]=next_team2\n",
    "# more_next8=rf.predict(next_team_dataframe)\n",
    "# print(len(more_next8))"
   ]
  },
  {
   "cell_type": "code",
   "execution_count": null,
   "id": "ad988ce3",
   "metadata": {},
   "outputs": [],
   "source": []
  },
  {
   "cell_type": "code",
   "execution_count": 175,
   "id": "9c194f47",
   "metadata": {},
   "outputs": [],
   "source": [
    "# next_team1=more_next8[:1]\n",
    "# next_team2=more_next8[1:2]\n",
    "# next_team_dataframe=pd.DataFrame()\n",
    "# next_team_dataframe[\"Team_1\"]=next_team1\n",
    "# next_team_dataframe[\"Team_2\"]=next_team2\n",
    "# more_next9=rf.predict(next_team_dataframe)\n",
    "# print(len(more_next9))"
   ]
  },
  {
   "cell_type": "code",
   "execution_count": 176,
   "id": "216202cd",
   "metadata": {},
   "outputs": [],
   "source": [
    "# more_next9\n",
    "# print(unique_name_final_val[14])"
   ]
  },
  {
   "cell_type": "code",
   "execution_count": 186,
   "id": "42b08909",
   "metadata": {},
   "outputs": [
    {
     "name": "stdout",
     "output_type": "stream",
     "text": [
      "['India', 'England', 'Pakistan', 'SouthAfrica', 'NewZealand', 'Australia', 'SriLanka', 'Bangladesh', 'Afghanistan', 'Zimbabwe', 'Ireland', 'Netherlands'] [8, 5, 2, 0, 1, 7, 6, 4, 14, 3, 11, 9]\n"
     ]
    }
   ],
   "source": [
    "ranking_list\n",
    "print(ranking_list,ranking_team)\n",
    "#NewZeland, England, Australia, Srilanka, Ireland, Afganistan, India, Pakistan, SAF, Netharland, Bangladesh, WestIndies"
   ]
  },
  {
   "cell_type": "code",
   "execution_count": 192,
   "id": "be73a60d",
   "metadata": {},
   "outputs": [],
   "source": [
    "#Ganja mara method (for fun only)\n",
    "ranking_list = ['NewZealand', 'Australia', 'Pakistan', 'SouthAfrica', 'England', 'India', 'SriLanka', \n",
    "                'Bangladesh', 'Afghanistan', 'Zimbabwe', 'Ireland', 'Netherlands']\n",
    "ranking_team = [8, 5, 2, 0, 1, 7, 6, 4, 14, 3, 11, 9]\n"
   ]
  },
  {
   "cell_type": "code",
   "execution_count": 193,
   "id": "1afdb6d4",
   "metadata": {},
   "outputs": [
    {
     "name": "stdout",
     "output_type": "stream",
     "text": [
      "6 [7 7 2 0 9 4]\n"
     ]
    },
    {
     "name": "stderr",
     "output_type": "stream",
     "text": [
      "c:\\users\\arnab\\appdata\\local\\programs\\python\\python39\\lib\\site-packages\\sklearn\\base.py:443: UserWarning: X has feature names, but RandomForestClassifier was fitted without feature names\n",
      "  warnings.warn(\n"
     ]
    }
   ],
   "source": [
    "new_team1=ranking_team[:6]\n",
    "new_team2=ranking_team[6:12]\n",
    "final_for_frame_new=pd.DataFrame()\n",
    "final_for_frame_new[\"Team_1\"]=new_team1\n",
    "final_for_frame_new[\"Team_2\"]=new_team2\n",
    "finals=rf.predict(final_for_frame_new)\n",
    "print(len(finals),finals)"
   ]
  },
  {
   "cell_type": "code",
   "execution_count": 194,
   "id": "9c748752",
   "metadata": {},
   "outputs": [
    {
     "name": "stdout",
     "output_type": "stream",
     "text": [
      "2 [2 6]\n"
     ]
    },
    {
     "name": "stderr",
     "output_type": "stream",
     "text": [
      "c:\\users\\arnab\\appdata\\local\\programs\\python\\python39\\lib\\site-packages\\sklearn\\base.py:443: UserWarning: X has feature names, but RandomForestClassifier was fitted without feature names\n",
      "  warnings.warn(\n"
     ]
    }
   ],
   "source": [
    "new_team1=finals[:2]\n",
    "new_team2=finals[1:3]\n",
    "final_for_frame_new=pd.DataFrame()\n",
    "final_for_frame_new[\"Team_1\"]=new_team1\n",
    "final_for_frame_new[\"Team_2\"]=new_team2\n",
    "finals1=rf.predict(final_for_frame_new)\n",
    "print(len(finals1),finals1)"
   ]
  },
  {
   "cell_type": "code",
   "execution_count": 195,
   "id": "f70a20f6",
   "metadata": {},
   "outputs": [
    {
     "name": "stdout",
     "output_type": "stream",
     "text": [
      "1 [2]\n"
     ]
    },
    {
     "name": "stderr",
     "output_type": "stream",
     "text": [
      "c:\\users\\arnab\\appdata\\local\\programs\\python\\python39\\lib\\site-packages\\sklearn\\base.py:443: UserWarning: X has feature names, but RandomForestClassifier was fitted without feature names\n",
      "  warnings.warn(\n"
     ]
    }
   ],
   "source": [
    "new_team1=finals1[:1]\n",
    "new_team2=finals1[1:2]\n",
    "final_for_frame_new=pd.DataFrame()\n",
    "final_for_frame_new[\"Team_1\"]=new_team1\n",
    "final_for_frame_new[\"Team_2\"]=new_team2\n",
    "finals2=rf.predict(final_for_frame_new)\n",
    "print(len(finals2),finals2)"
   ]
  },
  {
   "cell_type": "code",
   "execution_count": 196,
   "id": "88527de0",
   "metadata": {},
   "outputs": [
    {
     "name": "stdout",
     "output_type": "stream",
     "text": [
      "the winner is  Australia\n"
     ]
    }
   ],
   "source": [
    "print(\"the winner is \",ranking_list[finals2[0]-1])"
   ]
  },
  {
   "cell_type": "code",
   "execution_count": 182,
   "id": "92974e89",
   "metadata": {},
   "outputs": [],
   "source": [
    "# finals_team = [('India', 'Pakistan')]"
   ]
  },
  {
   "cell_type": "code",
   "execution_count": 183,
   "id": "f18c710a",
   "metadata": {},
   "outputs": [],
   "source": [
    "# clean_and_predict(finals_team, ranking,X, rf)"
   ]
  },
  {
   "cell_type": "code",
   "execution_count": 184,
   "id": "f50f889f",
   "metadata": {},
   "outputs": [],
   "source": [
    "# ranking"
   ]
  },
  {
   "cell_type": "code",
   "execution_count": 185,
   "id": "cd7b9c4b",
   "metadata": {},
   "outputs": [],
   "source": [
    "# unique_team_names\n",
    "# final_for_frame"
   ]
  }
 ],
 "metadata": {
  "kernelspec": {
   "display_name": "Python 3 (ipykernel)",
   "language": "python",
   "name": "python3"
  },
  "language_info": {
   "codemirror_mode": {
    "name": "ipython",
    "version": 3
   },
   "file_extension": ".py",
   "mimetype": "text/x-python",
   "name": "python",
   "nbconvert_exporter": "python",
   "pygments_lexer": "ipython3",
   "version": "3.9.1"
  },
  "vscode": {
   "interpreter": {
    "hash": "40a1ee777faba17dca73b5685df9e73305bb869345a67c7de5ab384a0fb2a8d6"
   }
  }
 },
 "nbformat": 4,
 "nbformat_minor": 5
}
